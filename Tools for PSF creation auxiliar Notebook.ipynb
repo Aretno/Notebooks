{
 "cells": [
  {
   "cell_type": "markdown",
   "metadata": {},
   "source": [
    "# Auxiliary notebook for PR 668: Tools for PSF creation."
   ]
  },
  {
   "cell_type": "markdown",
   "metadata": {},
   "source": [
    "This notebooks explains the procedure and most of the implemented functions to extract the PSFs from Kr events. and their reading."
   ]
  },
  {
   "cell_type": "code",
   "execution_count": 1,
   "metadata": {},
   "outputs": [],
   "source": [
    "import os\n",
    "import glob\n",
    "import numpy  as np\n",
    "import pandas as pd\n",
    "import tables as tb\n",
    "\n",
    "from invisible_cities.reco.psf_functions    import create_psf\n",
    "from invisible_cities.reco.psf_functions    import hdst_psf_processing\n",
    "from invisible_cities.reco.psf_functions    import add_empty_sensors_and_normalize_q\n",
    "from invisible_cities.reco.psf_functions    import add_variable_weighted_mean\n",
    "\n",
    "import invisible_cities.core.core_functions as     coref\n",
    "import invisible_cities.io  .dst_io         as     dstio\n",
    "\n",
    "from invisible_cities.database              import load_db\n",
    "from invisible_cities.io      .kdst_io      import psf_writer"
   ]
  },
  {
   "cell_type": "code",
   "execution_count": 2,
   "metadata": {},
   "outputs": [],
   "source": [
    "import matplotlib.pyplot as plt\n",
    "\n",
    "plt.rcParams[\"figure.figsize\"]          = 8, 6\n",
    "plt.rcParams[\"font.size\"]               = 16\n",
    "plt.rcParams[\"figure.max_open_warning\"] = 100"
   ]
  },
  {
   "cell_type": "markdown",
   "metadata": {},
   "source": [
    "### Configuration\n",
    "\n",
    "Initialize the different parameters for the PSF creation, hits should be created with a rebin parameter in penthesilea big enough so each SiPM charge is integrated in time."
   ]
  },
  {
   "cell_type": "code",
   "execution_count": 3,
   "metadata": {},
   "outputs": [],
   "source": [
    "### Intervals for psf\n",
    "zrange     = [25, 50]\n",
    "\n",
    "### PSF binning and range\n",
    "bin_size   = 1\n",
    "Xrange     = [ -50, 50]\n",
    "Yrange     = [ -50, 50]\n",
    "nbinX      = int(np.diff(Xrange)/bin_size)\n",
    "nbinY      = int(np.diff(Yrange)/bin_size)\n",
    "\n",
    "# Input and output path\n",
    "psf_path   = '/home/lior/NEXT/Software/data/Lucy/Kr_Data/psf/'\n",
    "hits_path  = '/home/lior/NEXT/Software/data/Lucy/Kr_Data/hits/integral/'\n",
    "\n",
    "out_psf  = psf_path + 'PSF_notebook_PR.h5'\n",
    "\n",
    "# Other parameters, not strictly necessary for the PSF but used in the notebook.\n",
    "nsectors = 1\n",
    "xstep    = np.linspace(-200, 200, nsectors + 1)\n",
    "ystep    = np.linspace(-200, 200, nsectors + 1)\n",
    "run      = 7473"
   ]
  },
  {
   "cell_type": "markdown",
   "metadata": {},
   "source": [
    "### Create the PSF and write it to file"
   ]
  },
  {
   "cell_type": "code",
   "execution_count": 4,
   "metadata": {
    "scrolled": true
   },
   "outputs": [
    {
     "name": "stdout",
     "output_type": "stream",
     "text": [
      "266877 events\n",
      "Time spent in hdst_psf_processing: 202.68103909492493 s\n",
      "Time spent in create_psf: 0.1457047462463379 s\n"
     ]
    }
   ],
   "source": [
    "with tb.open_file(out_psf, 'w') as outfile:\n",
    "    # Declare the PSF writer\n",
    "    writer = psf_writer(outfile)\n",
    "    \n",
    "    # Load the hdst file, drop info not needed.\n",
    "    #dsts   = dstio.load_dst(ifile, 'RECO', 'Events').drop(['Xrms', 'Yrms', 'Qc', 'Ec', 'track_id'], axis='columns').reset_index(drop=True)\n",
    "    dsts   = dstio.load_dsts(sorted(glob.glob(hits_path + f'kr*r{run}.h5'))[:5], 'RECO', 'Events').drop(['Xrms', 'Yrms', 'Qc', 'Ec', 'track_id'], axis='columns').reset_index(drop=True)\n",
    "    print(f'{dsts.event.nunique()} events')\n",
    "    # Choose events occuring in the Z range where the PSF is to be extracted\n",
    "    sel    = coref.in_range(dsts.Z, zrange[0], zrange[1]) \n",
    "    \n",
    "    # Preprocess the data before extracting the PSF\n",
    "    hdsts  = coref.timefunc(hdst_psf_processing)(dsts[sel], [Xrange, Yrange], 'new', run)\n",
    "    \n",
    "    # Safety check (single sipm events not considered to be physical)\n",
    "    hdsts  = hdsts[hdsts.nsipm > 1]\n",
    "    \n",
    "    # Loop to extract the PSF in different regions. \n",
    "    # In this notebook, xstep and ystep are set to have just one region.\n",
    "    for i, xx in enumerate(xstep[:-1]):\n",
    "        for j, yy in enumerate(ystep[:-1]):\n",
    "            hdst = hdsts[coref.in_range(hdsts.Xpeak, xx, xstep[i+1]) & coref.in_range(hdsts.Ypeak, yy, ystep[j+1])]\n",
    "            \n",
    "            # Create the PSF with the relative position and normalized charge values.\n",
    "            psf_new, entries_new, bins_new = coref.timefunc(create_psf)((hdst.RelX.values, hdst.RelY.values), hdst.NormQ, \n",
    "                                                         [nbinX, nbinY], [Xrange, Yrange])\n",
    "            xpsf, ypsf = (xx+xstep[i+1])/2, (yy+ystep[j+1])/2 \n",
    "            \n",
    "            # Write the PSF to file. \n",
    "            # The PSF is created through a histogram which returns a 2D array in inverted XY axis order, thus the transpose.\n",
    "            writer(bins_new[0], bins_new[1], [0], np.floor(xpsf), np.floor(ypsf), sum(zrange)/2, \n",
    "                   np.asarray([psf_new]).transpose((1, 2, 0)), np.asarray([entries_new]).transpose((1, 2, 0)))"
   ]
  },
  {
   "cell_type": "markdown",
   "metadata": {},
   "source": [
    "### Read the PSF"
   ]
  },
  {
   "cell_type": "code",
   "execution_count": 5,
   "metadata": {},
   "outputs": [],
   "source": [
    "psf =  dstio.load_dst(out_psf, 'PSF', 'PSFs')"
   ]
  },
  {
   "cell_type": "code",
   "execution_count": 6,
   "metadata": {},
   "outputs": [
    {
     "data": {
      "text/html": [
       "<div>\n",
       "<style scoped>\n",
       "    .dataframe tbody tr th:only-of-type {\n",
       "        vertical-align: middle;\n",
       "    }\n",
       "\n",
       "    .dataframe tbody tr th {\n",
       "        vertical-align: top;\n",
       "    }\n",
       "\n",
       "    .dataframe thead th {\n",
       "        text-align: right;\n",
       "    }\n",
       "</style>\n",
       "<table border=\"1\" class=\"dataframe\">\n",
       "  <thead>\n",
       "    <tr style=\"text-align: right;\">\n",
       "      <th></th>\n",
       "      <th>nevt</th>\n",
       "      <th>xr</th>\n",
       "      <th>yr</th>\n",
       "      <th>zr</th>\n",
       "      <th>x</th>\n",
       "      <th>y</th>\n",
       "      <th>z</th>\n",
       "      <th>factor</th>\n",
       "    </tr>\n",
       "  </thead>\n",
       "  <tbody>\n",
       "    <tr>\n",
       "      <th>0</th>\n",
       "      <td>138</td>\n",
       "      <td>-49.5</td>\n",
       "      <td>-49.5</td>\n",
       "      <td>0.0</td>\n",
       "      <td>0.0</td>\n",
       "      <td>0.0</td>\n",
       "      <td>37.5</td>\n",
       "      <td>0.000009</td>\n",
       "    </tr>\n",
       "    <tr>\n",
       "      <th>1</th>\n",
       "      <td>117</td>\n",
       "      <td>-49.5</td>\n",
       "      <td>-48.5</td>\n",
       "      <td>0.0</td>\n",
       "      <td>0.0</td>\n",
       "      <td>0.0</td>\n",
       "      <td>37.5</td>\n",
       "      <td>0.000012</td>\n",
       "    </tr>\n",
       "    <tr>\n",
       "      <th>2</th>\n",
       "      <td>115</td>\n",
       "      <td>-49.5</td>\n",
       "      <td>-47.5</td>\n",
       "      <td>0.0</td>\n",
       "      <td>0.0</td>\n",
       "      <td>0.0</td>\n",
       "      <td>37.5</td>\n",
       "      <td>0.000000</td>\n",
       "    </tr>\n",
       "    <tr>\n",
       "      <th>3</th>\n",
       "      <td>108</td>\n",
       "      <td>-49.5</td>\n",
       "      <td>-46.5</td>\n",
       "      <td>0.0</td>\n",
       "      <td>0.0</td>\n",
       "      <td>0.0</td>\n",
       "      <td>37.5</td>\n",
       "      <td>0.000000</td>\n",
       "    </tr>\n",
       "    <tr>\n",
       "      <th>4</th>\n",
       "      <td>107</td>\n",
       "      <td>-49.5</td>\n",
       "      <td>-45.5</td>\n",
       "      <td>0.0</td>\n",
       "      <td>0.0</td>\n",
       "      <td>0.0</td>\n",
       "      <td>37.5</td>\n",
       "      <td>0.000034</td>\n",
       "    </tr>\n",
       "  </tbody>\n",
       "</table>\n",
       "</div>"
      ],
      "text/plain": [
       "   nevt    xr    yr   zr    x    y     z    factor\n",
       "0   138 -49.5 -49.5  0.0  0.0  0.0  37.5  0.000009\n",
       "1   117 -49.5 -48.5  0.0  0.0  0.0  37.5  0.000012\n",
       "2   115 -49.5 -47.5  0.0  0.0  0.0  37.5  0.000000\n",
       "3   108 -49.5 -46.5  0.0  0.0  0.0  37.5  0.000000\n",
       "4   107 -49.5 -45.5  0.0  0.0  0.0  37.5  0.000034"
      ]
     },
     "execution_count": 6,
     "metadata": {},
     "output_type": "execute_result"
    }
   ],
   "source": [
    "psf.head()"
   ]
  },
  {
   "cell_type": "code",
   "execution_count": 7,
   "metadata": {},
   "outputs": [
    {
     "name": "stderr",
     "output_type": "stream",
     "text": [
      "/home/lior/miniconda/envs/IC-3.7-2018-11-14/lib/python3.7/site-packages/ipykernel_launcher.py:13: DeprecationWarning: object of type <class 'numpy.ndarray'> cannot be safely interpreted as an integer.\n",
      "  del sys.path[0]\n"
     ]
    },
    {
     "data": {
      "image/png": "[encoded data removed]",
      "text/plain": [
       "<Figure size 1152x432 with 3 Axes>"
      ]
     },
     "metadata": {
      "needs_background": "light"
     },
     "output_type": "display_data"
    }
   ],
   "source": [
    "fig, axes = plt.subplots(1, 2, figsize=(16, 6))\n",
    "\n",
    "### Plot PSF at center (X dimension)\n",
    "p1 = psf[(psf.z==37.5) & (psf.yr==0.5)]\n",
    "x, y = sorted(set(p1.xr)), p1.groupby(['xr'])['factor'].sum().values\n",
    "axes[0].plot(x, y)\n",
    "axes[0].set_xlabel('X distance (mm)')\n",
    "axes[0].set_ylabel('Charge fraction')\n",
    "\n",
    "### PSF (2D)\n",
    "p1 = psf[(psf.z==37.5)]\n",
    "x, y, e = p1.xr.values, p1.yr.values, p1.factor.values\n",
    "xb, yb  = np.linspace(*Xrange, np.diff(Xrange)+1), np.linspace(*Yrange, np.diff(Yrange)+1)\n",
    "img = axes[1].hist2d(x, y, bins=[xb,yb], weights=e)\n",
    "axes[1].set_xlabel('X distance (mm)')\n",
    "axes[1].set_ylabel('Y distance (mm)')\n",
    "cb = fig.colorbar(img[3], ax=axes[1])\n",
    "\n",
    "cb.set_label('Charge fraction')"
   ]
  },
  {
   "cell_type": "markdown",
   "metadata": {},
   "source": [
    "### Function by function"
   ]
  },
  {
   "cell_type": "markdown",
   "metadata": {},
   "source": [
    "Show the behavior and performance of each of the involved functions."
   ]
  },
  {
   "cell_type": "markdown",
   "metadata": {},
   "source": [
    "##### Choose individual event to use as example"
   ]
  },
  {
   "cell_type": "code",
   "execution_count": 8,
   "metadata": {},
   "outputs": [
    {
     "data": {
      "text/html": [
       "<div>\n",
       "<style scoped>\n",
       "    .dataframe tbody tr th:only-of-type {\n",
       "        vertical-align: middle;\n",
       "    }\n",
       "\n",
       "    .dataframe tbody tr th {\n",
       "        vertical-align: top;\n",
       "    }\n",
       "\n",
       "    .dataframe thead th {\n",
       "        text-align: right;\n",
       "    }\n",
       "</style>\n",
       "<table border=\"1\" class=\"dataframe\">\n",
       "  <thead>\n",
       "    <tr style=\"text-align: right;\">\n",
       "      <th></th>\n",
       "      <th>event</th>\n",
       "      <th>time</th>\n",
       "      <th>npeak</th>\n",
       "      <th>Xpeak</th>\n",
       "      <th>Ypeak</th>\n",
       "      <th>nsipm</th>\n",
       "      <th>X</th>\n",
       "      <th>Y</th>\n",
       "      <th>Z</th>\n",
       "      <th>Q</th>\n",
       "      <th>E</th>\n",
       "    </tr>\n",
       "  </thead>\n",
       "  <tbody>\n",
       "    <tr>\n",
       "      <th>0</th>\n",
       "      <td>1</td>\n",
       "      <td>1.566758e+09</td>\n",
       "      <td>0</td>\n",
       "      <td>-71.633853</td>\n",
       "      <td>-149.739806</td>\n",
       "      <td>1</td>\n",
       "      <td>-75.0</td>\n",
       "      <td>-145.0</td>\n",
       "      <td>479.814437</td>\n",
       "      <td>87.454086</td>\n",
       "      <td>1462.447103</td>\n",
       "    </tr>\n",
       "    <tr>\n",
       "      <th>1</th>\n",
       "      <td>1</td>\n",
       "      <td>1.566758e+09</td>\n",
       "      <td>0</td>\n",
       "      <td>-71.633853</td>\n",
       "      <td>-149.739806</td>\n",
       "      <td>1</td>\n",
       "      <td>-75.0</td>\n",
       "      <td>-155.0</td>\n",
       "      <td>479.814437</td>\n",
       "      <td>76.391197</td>\n",
       "      <td>1277.448427</td>\n",
       "    </tr>\n",
       "    <tr>\n",
       "      <th>2</th>\n",
       "      <td>1</td>\n",
       "      <td>1.566758e+09</td>\n",
       "      <td>0</td>\n",
       "      <td>-71.633853</td>\n",
       "      <td>-149.739806</td>\n",
       "      <td>1</td>\n",
       "      <td>-65.0</td>\n",
       "      <td>-145.0</td>\n",
       "      <td>479.814437</td>\n",
       "      <td>48.411072</td>\n",
       "      <td>809.552013</td>\n",
       "    </tr>\n",
       "    <tr>\n",
       "      <th>3</th>\n",
       "      <td>1</td>\n",
       "      <td>1.566758e+09</td>\n",
       "      <td>0</td>\n",
       "      <td>-71.633853</td>\n",
       "      <td>-149.739806</td>\n",
       "      <td>1</td>\n",
       "      <td>-65.0</td>\n",
       "      <td>-155.0</td>\n",
       "      <td>479.814437</td>\n",
       "      <td>45.829212</td>\n",
       "      <td>766.376980</td>\n",
       "    </tr>\n",
       "    <tr>\n",
       "      <th>4</th>\n",
       "      <td>1</td>\n",
       "      <td>1.566758e+09</td>\n",
       "      <td>0</td>\n",
       "      <td>-71.633853</td>\n",
       "      <td>-149.739806</td>\n",
       "      <td>1</td>\n",
       "      <td>-85.0</td>\n",
       "      <td>-155.0</td>\n",
       "      <td>479.814437</td>\n",
       "      <td>39.429626</td>\n",
       "      <td>659.360190</td>\n",
       "    </tr>\n",
       "  </tbody>\n",
       "</table>\n",
       "</div>"
      ],
      "text/plain": [
       "   event          time  npeak      Xpeak       Ypeak  nsipm     X      Y  \\\n",
       "0      1  1.566758e+09      0 -71.633853 -149.739806      1 -75.0 -145.0   \n",
       "1      1  1.566758e+09      0 -71.633853 -149.739806      1 -75.0 -155.0   \n",
       "2      1  1.566758e+09      0 -71.633853 -149.739806      1 -65.0 -145.0   \n",
       "3      1  1.566758e+09      0 -71.633853 -149.739806      1 -65.0 -155.0   \n",
       "4      1  1.566758e+09      0 -71.633853 -149.739806      1 -85.0 -155.0   \n",
       "\n",
       "            Z          Q            E  \n",
       "0  479.814437  87.454086  1462.447103  \n",
       "1  479.814437  76.391197  1277.448427  \n",
       "2  479.814437  48.411072   809.552013  \n",
       "3  479.814437  45.829212   766.376980  \n",
       "4  479.814437  39.429626   659.360190  "
      ]
     },
     "execution_count": 8,
     "metadata": {},
     "output_type": "execute_result"
    }
   ],
   "source": [
    "dst = dsts[dsts.event==dsts.event.unique()[0]]\n",
    "dst.head()"
   ]
  },
  {
   "cell_type": "markdown",
   "metadata": {},
   "source": [
    "##### Measure the weighted average of a variable in the dataframe"
   ]
  },
  {
   "cell_type": "markdown",
   "metadata": {},
   "source": [
    "`add_variable_weighted_mean` calculates the average of a given variable of a dataframe weighted by another variable of the same dataframe. In the PSF building, only needed for a 3D PSF though this approach is not fully implemented and will be polished in the future."
   ]
  },
  {
   "cell_type": "code",
   "execution_count": 9,
   "metadata": {},
   "outputs": [
    {
     "name": "stdout",
     "output_type": "stream",
     "text": [
      "Time spent in add_variable_weighted_mean: 0.12056326866149902 s\n"
     ]
    },
    {
     "name": "stderr",
     "output_type": "stream",
     "text": [
      "/home/lior/miniconda/envs/IC-3.7-2018-11-14/lib/python3.7/site-packages/pandas/core/indexing.py:362: SettingWithCopyWarning: \n",
      "A value is trying to be set on a copy of a slice from a DataFrame.\n",
      "Try using .loc[row_indexer,col_indexer] = value instead\n",
      "\n",
      "See the caveats in the documentation: http://pandas.pydata.org/pandas-docs/stable/indexing.html#indexing-view-versus-copy\n",
      "  self.obj[key] = _infer_fill_value(value)\n",
      "/home/lior/miniconda/envs/IC-3.7-2018-11-14/lib/python3.7/site-packages/pandas/core/indexing.py:543: SettingWithCopyWarning: \n",
      "A value is trying to be set on a copy of a slice from a DataFrame.\n",
      "Try using .loc[row_indexer,col_indexer] = value instead\n",
      "\n",
      "See the caveats in the documentation: http://pandas.pydata.org/pandas-docs/stable/indexing.html#indexing-view-versus-copy\n",
      "  self.obj[item] = s\n"
     ]
    }
   ],
   "source": [
    "coref.timefunc(add_variable_weighted_mean)(dst, 'Z', 'E')"
   ]
  },
  {
   "cell_type": "code",
   "execution_count": 10,
   "metadata": {
    "scrolled": true
   },
   "outputs": [
    {
     "data": {
      "text/html": [
       "<div>\n",
       "<style scoped>\n",
       "    .dataframe tbody tr th:only-of-type {\n",
       "        vertical-align: middle;\n",
       "    }\n",
       "\n",
       "    .dataframe tbody tr th {\n",
       "        vertical-align: top;\n",
       "    }\n",
       "\n",
       "    .dataframe thead th {\n",
       "        text-align: right;\n",
       "    }\n",
       "</style>\n",
       "<table border=\"1\" class=\"dataframe\">\n",
       "  <thead>\n",
       "    <tr style=\"text-align: right;\">\n",
       "      <th></th>\n",
       "      <th>event</th>\n",
       "      <th>time</th>\n",
       "      <th>npeak</th>\n",
       "      <th>Xpeak</th>\n",
       "      <th>Ypeak</th>\n",
       "      <th>nsipm</th>\n",
       "      <th>X</th>\n",
       "      <th>Y</th>\n",
       "      <th>Z</th>\n",
       "      <th>Q</th>\n",
       "      <th>E</th>\n",
       "      <th>Zpeak</th>\n",
       "    </tr>\n",
       "  </thead>\n",
       "  <tbody>\n",
       "    <tr>\n",
       "      <th>0</th>\n",
       "      <td>1</td>\n",
       "      <td>1.566758e+09</td>\n",
       "      <td>0</td>\n",
       "      <td>-71.633853</td>\n",
       "      <td>-149.739806</td>\n",
       "      <td>1</td>\n",
       "      <td>-75.0</td>\n",
       "      <td>-145.0</td>\n",
       "      <td>479.814437</td>\n",
       "      <td>87.454086</td>\n",
       "      <td>1462.447103</td>\n",
       "      <td>479.814438</td>\n",
       "    </tr>\n",
       "    <tr>\n",
       "      <th>1</th>\n",
       "      <td>1</td>\n",
       "      <td>1.566758e+09</td>\n",
       "      <td>0</td>\n",
       "      <td>-71.633853</td>\n",
       "      <td>-149.739806</td>\n",
       "      <td>1</td>\n",
       "      <td>-75.0</td>\n",
       "      <td>-155.0</td>\n",
       "      <td>479.814437</td>\n",
       "      <td>76.391197</td>\n",
       "      <td>1277.448427</td>\n",
       "      <td>479.814438</td>\n",
       "    </tr>\n",
       "    <tr>\n",
       "      <th>2</th>\n",
       "      <td>1</td>\n",
       "      <td>1.566758e+09</td>\n",
       "      <td>0</td>\n",
       "      <td>-71.633853</td>\n",
       "      <td>-149.739806</td>\n",
       "      <td>1</td>\n",
       "      <td>-65.0</td>\n",
       "      <td>-145.0</td>\n",
       "      <td>479.814437</td>\n",
       "      <td>48.411072</td>\n",
       "      <td>809.552013</td>\n",
       "      <td>479.814438</td>\n",
       "    </tr>\n",
       "    <tr>\n",
       "      <th>3</th>\n",
       "      <td>1</td>\n",
       "      <td>1.566758e+09</td>\n",
       "      <td>0</td>\n",
       "      <td>-71.633853</td>\n",
       "      <td>-149.739806</td>\n",
       "      <td>1</td>\n",
       "      <td>-65.0</td>\n",
       "      <td>-155.0</td>\n",
       "      <td>479.814437</td>\n",
       "      <td>45.829212</td>\n",
       "      <td>766.376980</td>\n",
       "      <td>479.814438</td>\n",
       "    </tr>\n",
       "    <tr>\n",
       "      <th>4</th>\n",
       "      <td>1</td>\n",
       "      <td>1.566758e+09</td>\n",
       "      <td>0</td>\n",
       "      <td>-71.633853</td>\n",
       "      <td>-149.739806</td>\n",
       "      <td>1</td>\n",
       "      <td>-85.0</td>\n",
       "      <td>-155.0</td>\n",
       "      <td>479.814437</td>\n",
       "      <td>39.429626</td>\n",
       "      <td>659.360190</td>\n",
       "      <td>479.814438</td>\n",
       "    </tr>\n",
       "  </tbody>\n",
       "</table>\n",
       "</div>"
      ],
      "text/plain": [
       "   event          time  npeak      Xpeak       Ypeak  nsipm     X      Y  \\\n",
       "0      1  1.566758e+09      0 -71.633853 -149.739806      1 -75.0 -145.0   \n",
       "1      1  1.566758e+09      0 -71.633853 -149.739806      1 -75.0 -155.0   \n",
       "2      1  1.566758e+09      0 -71.633853 -149.739806      1 -65.0 -145.0   \n",
       "3      1  1.566758e+09      0 -71.633853 -149.739806      1 -65.0 -155.0   \n",
       "4      1  1.566758e+09      0 -71.633853 -149.739806      1 -85.0 -155.0   \n",
       "\n",
       "            Z          Q            E       Zpeak  \n",
       "0  479.814437  87.454086  1462.447103  479.814438  \n",
       "1  479.814437  76.391197  1277.448427  479.814438  \n",
       "2  479.814437  48.411072   809.552013  479.814438  \n",
       "3  479.814437  45.829212   766.376980  479.814438  \n",
       "4  479.814437  39.429626   659.360190  479.814438  "
      ]
     },
     "execution_count": 10,
     "metadata": {},
     "output_type": "execute_result"
    }
   ],
   "source": [
    "dst.head()"
   ]
  },
  {
   "cell_type": "markdown",
   "metadata": {},
   "source": [
    "##### Measure the weighted average of a variable in the dataframe"
   ]
  },
  {
   "cell_type": "markdown",
   "metadata": {},
   "source": [
    "`add_empty_sensors_and_normalize_q` adds entries to the dataframe corresponding to sensors that are physically near the event but haven't seen any charge. These entries are added with Q=0 and are relevant to the PSF (as they should be included in the average response). The entries are added according to the database, adding SiPMs up to the choiced range (in the PSF creation the added SiPM range is that of the PSF creation range).\n",
    "\n",
    "Then, an additional column, with the normalized Q of each sensor (to the Q sum) is added to the dataframe. This is the column that will be used to get the PSF. This means the PSF intensity is given by the mean normalized Q charge seen at a given relative position."
   ]
  },
  {
   "cell_type": "code",
   "execution_count": 11,
   "metadata": {},
   "outputs": [
    {
     "data": {
      "text/html": [
       "<div>\n",
       "<style scoped>\n",
       "    .dataframe tbody tr th:only-of-type {\n",
       "        vertical-align: middle;\n",
       "    }\n",
       "\n",
       "    .dataframe tbody tr th {\n",
       "        vertical-align: top;\n",
       "    }\n",
       "\n",
       "    .dataframe thead th {\n",
       "        text-align: right;\n",
       "    }\n",
       "</style>\n",
       "<table border=\"1\" class=\"dataframe\">\n",
       "  <thead>\n",
       "    <tr style=\"text-align: right;\">\n",
       "      <th></th>\n",
       "      <th>event</th>\n",
       "      <th>time</th>\n",
       "      <th>npeak</th>\n",
       "      <th>Xpeak</th>\n",
       "      <th>Ypeak</th>\n",
       "      <th>nsipm</th>\n",
       "      <th>X</th>\n",
       "      <th>Y</th>\n",
       "      <th>Z</th>\n",
       "      <th>Q</th>\n",
       "      <th>E</th>\n",
       "      <th>Zpeak</th>\n",
       "    </tr>\n",
       "  </thead>\n",
       "  <tbody>\n",
       "    <tr>\n",
       "      <th>19</th>\n",
       "      <td>1</td>\n",
       "      <td>1.566758e+09</td>\n",
       "      <td>0</td>\n",
       "      <td>-71.633853</td>\n",
       "      <td>-149.739806</td>\n",
       "      <td>1</td>\n",
       "      <td>-95.0</td>\n",
       "      <td>-175.0</td>\n",
       "      <td>479.814437</td>\n",
       "      <td>6.439598</td>\n",
       "      <td>107.685895</td>\n",
       "      <td>479.814438</td>\n",
       "    </tr>\n",
       "    <tr>\n",
       "      <th>20</th>\n",
       "      <td>1</td>\n",
       "      <td>1.566758e+09</td>\n",
       "      <td>0</td>\n",
       "      <td>-71.633853</td>\n",
       "      <td>-149.739806</td>\n",
       "      <td>1</td>\n",
       "      <td>-95.0</td>\n",
       "      <td>-155.0</td>\n",
       "      <td>479.814437</td>\n",
       "      <td>5.491645</td>\n",
       "      <td>91.833789</td>\n",
       "      <td>479.814438</td>\n",
       "    </tr>\n",
       "    <tr>\n",
       "      <th>21</th>\n",
       "      <td>1</td>\n",
       "      <td>1.566758e+09</td>\n",
       "      <td>0</td>\n",
       "      <td>-71.633853</td>\n",
       "      <td>-149.739806</td>\n",
       "      <td>1</td>\n",
       "      <td>-75.0</td>\n",
       "      <td>-125.0</td>\n",
       "      <td>479.814437</td>\n",
       "      <td>5.386807</td>\n",
       "      <td>90.080650</td>\n",
       "      <td>479.814438</td>\n",
       "    </tr>\n",
       "    <tr>\n",
       "      <th>22</th>\n",
       "      <td>1</td>\n",
       "      <td>1.566758e+09</td>\n",
       "      <td>0</td>\n",
       "      <td>-71.633853</td>\n",
       "      <td>-149.739806</td>\n",
       "      <td>1</td>\n",
       "      <td>-65.0</td>\n",
       "      <td>-125.0</td>\n",
       "      <td>479.814437</td>\n",
       "      <td>5.361578</td>\n",
       "      <td>89.658759</td>\n",
       "      <td>479.814438</td>\n",
       "    </tr>\n",
       "    <tr>\n",
       "      <th>23</th>\n",
       "      <td>1</td>\n",
       "      <td>1.566758e+09</td>\n",
       "      <td>0</td>\n",
       "      <td>-71.633853</td>\n",
       "      <td>-149.739806</td>\n",
       "      <td>1</td>\n",
       "      <td>195.0</td>\n",
       "      <td>15.0</td>\n",
       "      <td>479.814437</td>\n",
       "      <td>5.098637</td>\n",
       "      <td>85.261734</td>\n",
       "      <td>479.814438</td>\n",
       "    </tr>\n",
       "  </tbody>\n",
       "</table>\n",
       "</div>"
      ],
      "text/plain": [
       "    event          time  npeak      Xpeak       Ypeak  nsipm      X      Y  \\\n",
       "19      1  1.566758e+09      0 -71.633853 -149.739806      1  -95.0 -175.0   \n",
       "20      1  1.566758e+09      0 -71.633853 -149.739806      1  -95.0 -155.0   \n",
       "21      1  1.566758e+09      0 -71.633853 -149.739806      1  -75.0 -125.0   \n",
       "22      1  1.566758e+09      0 -71.633853 -149.739806      1  -65.0 -125.0   \n",
       "23      1  1.566758e+09      0 -71.633853 -149.739806      1  195.0   15.0   \n",
       "\n",
       "             Z         Q           E       Zpeak  \n",
       "19  479.814437  6.439598  107.685895  479.814438  \n",
       "20  479.814437  5.491645   91.833789  479.814438  \n",
       "21  479.814437  5.386807   90.080650  479.814438  \n",
       "22  479.814437  5.361578   89.658759  479.814438  \n",
       "23  479.814437  5.098637   85.261734  479.814438  "
      ]
     },
     "execution_count": 11,
     "metadata": {},
     "output_type": "execute_result"
    }
   ],
   "source": [
    "dst.tail()"
   ]
  },
  {
   "cell_type": "code",
   "execution_count": 12,
   "metadata": {},
   "outputs": [
    {
     "name": "stdout",
     "output_type": "stream",
     "text": [
      "Time spent in add_empty_sensors_and_normalize_q: 0.023055553436279297 s\n"
     ]
    }
   ],
   "source": [
    "sipm_db  = load_db.DataSiPM('new', run)\n",
    "dst_proc = coref.timefunc(add_empty_sensors_and_normalize_q)(dst, ['X','Y'], [Xrange, Yrange], sipm_db).reset_index(drop=True)"
   ]
  },
  {
   "cell_type": "code",
   "execution_count": 13,
   "metadata": {},
   "outputs": [
    {
     "data": {
      "text/html": [
       "<div>\n",
       "<style scoped>\n",
       "    .dataframe tbody tr th:only-of-type {\n",
       "        vertical-align: middle;\n",
       "    }\n",
       "\n",
       "    .dataframe tbody tr th {\n",
       "        vertical-align: top;\n",
       "    }\n",
       "\n",
       "    .dataframe thead th {\n",
       "        text-align: right;\n",
       "    }\n",
       "</style>\n",
       "<table border=\"1\" class=\"dataframe\">\n",
       "  <thead>\n",
       "    <tr style=\"text-align: right;\">\n",
       "      <th></th>\n",
       "      <th>event</th>\n",
       "      <th>time</th>\n",
       "      <th>npeak</th>\n",
       "      <th>Xpeak</th>\n",
       "      <th>Ypeak</th>\n",
       "      <th>nsipm</th>\n",
       "      <th>X</th>\n",
       "      <th>Y</th>\n",
       "      <th>Z</th>\n",
       "      <th>Q</th>\n",
       "      <th>E</th>\n",
       "      <th>Zpeak</th>\n",
       "      <th>NormQ</th>\n",
       "    </tr>\n",
       "  </thead>\n",
       "  <tbody>\n",
       "    <tr>\n",
       "      <th>96</th>\n",
       "      <td>1</td>\n",
       "      <td>1.566758e+09</td>\n",
       "      <td>0</td>\n",
       "      <td>-71.633853</td>\n",
       "      <td>-149.739806</td>\n",
       "      <td>24</td>\n",
       "      <td>-35.0</td>\n",
       "      <td>-165.0</td>\n",
       "      <td>479.814437</td>\n",
       "      <td>0.0</td>\n",
       "      <td>0.0</td>\n",
       "      <td>0.0</td>\n",
       "      <td>0.0</td>\n",
       "    </tr>\n",
       "    <tr>\n",
       "      <th>97</th>\n",
       "      <td>1</td>\n",
       "      <td>1.566758e+09</td>\n",
       "      <td>0</td>\n",
       "      <td>-71.633853</td>\n",
       "      <td>-149.739806</td>\n",
       "      <td>24</td>\n",
       "      <td>-25.0</td>\n",
       "      <td>-195.0</td>\n",
       "      <td>479.814437</td>\n",
       "      <td>0.0</td>\n",
       "      <td>0.0</td>\n",
       "      <td>0.0</td>\n",
       "      <td>0.0</td>\n",
       "    </tr>\n",
       "    <tr>\n",
       "      <th>98</th>\n",
       "      <td>1</td>\n",
       "      <td>1.566758e+09</td>\n",
       "      <td>0</td>\n",
       "      <td>-71.633853</td>\n",
       "      <td>-149.739806</td>\n",
       "      <td>24</td>\n",
       "      <td>-25.0</td>\n",
       "      <td>-185.0</td>\n",
       "      <td>479.814437</td>\n",
       "      <td>0.0</td>\n",
       "      <td>0.0</td>\n",
       "      <td>0.0</td>\n",
       "      <td>0.0</td>\n",
       "    </tr>\n",
       "    <tr>\n",
       "      <th>99</th>\n",
       "      <td>1</td>\n",
       "      <td>1.566758e+09</td>\n",
       "      <td>0</td>\n",
       "      <td>-71.633853</td>\n",
       "      <td>-149.739806</td>\n",
       "      <td>24</td>\n",
       "      <td>-25.0</td>\n",
       "      <td>-175.0</td>\n",
       "      <td>479.814437</td>\n",
       "      <td>0.0</td>\n",
       "      <td>0.0</td>\n",
       "      <td>0.0</td>\n",
       "      <td>0.0</td>\n",
       "    </tr>\n",
       "    <tr>\n",
       "      <th>100</th>\n",
       "      <td>1</td>\n",
       "      <td>1.566758e+09</td>\n",
       "      <td>0</td>\n",
       "      <td>-71.633853</td>\n",
       "      <td>-149.739806</td>\n",
       "      <td>24</td>\n",
       "      <td>-25.0</td>\n",
       "      <td>-165.0</td>\n",
       "      <td>479.814437</td>\n",
       "      <td>0.0</td>\n",
       "      <td>0.0</td>\n",
       "      <td>0.0</td>\n",
       "      <td>0.0</td>\n",
       "    </tr>\n",
       "  </tbody>\n",
       "</table>\n",
       "</div>"
      ],
      "text/plain": [
       "     event          time  npeak      Xpeak       Ypeak  nsipm     X      Y  \\\n",
       "96       1  1.566758e+09      0 -71.633853 -149.739806     24 -35.0 -165.0   \n",
       "97       1  1.566758e+09      0 -71.633853 -149.739806     24 -25.0 -195.0   \n",
       "98       1  1.566758e+09      0 -71.633853 -149.739806     24 -25.0 -185.0   \n",
       "99       1  1.566758e+09      0 -71.633853 -149.739806     24 -25.0 -175.0   \n",
       "100      1  1.566758e+09      0 -71.633853 -149.739806     24 -25.0 -165.0   \n",
       "\n",
       "              Z    Q    E  Zpeak  NormQ  \n",
       "96   479.814437  0.0  0.0    0.0    0.0  \n",
       "97   479.814437  0.0  0.0    0.0    0.0  \n",
       "98   479.814437  0.0  0.0    0.0    0.0  \n",
       "99   479.814437  0.0  0.0    0.0    0.0  \n",
       "100  479.814437  0.0  0.0    0.0    0.0  "
      ]
     },
     "execution_count": 13,
     "metadata": {},
     "output_type": "execute_result"
    }
   ],
   "source": [
    "dst_proc.tail()"
   ]
  },
  {
   "cell_type": "markdown",
   "metadata": {},
   "source": [
    "##### Process the data before creating the PSF\n",
    "\n",
    "`hdst_psf_processing` applies both `add_empty_sensors_and_normalize_q` and `add_variable_weighted_mean` (only in 3D) to the hits dst. It also adds the relative positions (Pos - Pospeak) as they are used needed to calculate the PSF."
   ]
  },
  {
   "cell_type": "code",
   "execution_count": 14,
   "metadata": {},
   "outputs": [
    {
     "name": "stdout",
     "output_type": "stream",
     "text": [
      "Time spent in hdst_psf_processing: 0.039453744888305664 s\n"
     ]
    }
   ],
   "source": [
    "dst  = dsts[dsts.event==dsts.event.unique()[0]]\n",
    "hdst = coref.timefunc(hdst_psf_processing)(dst, [Xrange, Yrange], 'new', run)"
   ]
  },
  {
   "cell_type": "code",
   "execution_count": 15,
   "metadata": {},
   "outputs": [
    {
     "data": {
      "text/html": [
       "<div>\n",
       "<style scoped>\n",
       "    .dataframe tbody tr th:only-of-type {\n",
       "        vertical-align: middle;\n",
       "    }\n",
       "\n",
       "    .dataframe tbody tr th {\n",
       "        vertical-align: top;\n",
       "    }\n",
       "\n",
       "    .dataframe thead th {\n",
       "        text-align: right;\n",
       "    }\n",
       "</style>\n",
       "<table border=\"1\" class=\"dataframe\">\n",
       "  <thead>\n",
       "    <tr style=\"text-align: right;\">\n",
       "      <th></th>\n",
       "      <th>event</th>\n",
       "      <th>time</th>\n",
       "      <th>npeak</th>\n",
       "      <th>Xpeak</th>\n",
       "      <th>Ypeak</th>\n",
       "      <th>nsipm</th>\n",
       "      <th>X</th>\n",
       "      <th>Y</th>\n",
       "      <th>Z</th>\n",
       "      <th>Q</th>\n",
       "      <th>E</th>\n",
       "      <th>NormQ</th>\n",
       "      <th>Zpeak</th>\n",
       "      <th>RelZ</th>\n",
       "      <th>RelX</th>\n",
       "      <th>RelY</th>\n",
       "    </tr>\n",
       "  </thead>\n",
       "  <tbody>\n",
       "    <tr>\n",
       "      <th>96</th>\n",
       "      <td>1</td>\n",
       "      <td>1.566758e+09</td>\n",
       "      <td>0</td>\n",
       "      <td>-71.633853</td>\n",
       "      <td>-149.739806</td>\n",
       "      <td>24</td>\n",
       "      <td>-35.0</td>\n",
       "      <td>-165.0</td>\n",
       "      <td>479.814437</td>\n",
       "      <td>0.0</td>\n",
       "      <td>0.0</td>\n",
       "      <td>0.0</td>\n",
       "      <td>479.814437</td>\n",
       "      <td>0.0</td>\n",
       "      <td>36.633853</td>\n",
       "      <td>-15.260194</td>\n",
       "    </tr>\n",
       "    <tr>\n",
       "      <th>97</th>\n",
       "      <td>1</td>\n",
       "      <td>1.566758e+09</td>\n",
       "      <td>0</td>\n",
       "      <td>-71.633853</td>\n",
       "      <td>-149.739806</td>\n",
       "      <td>24</td>\n",
       "      <td>-25.0</td>\n",
       "      <td>-195.0</td>\n",
       "      <td>479.814437</td>\n",
       "      <td>0.0</td>\n",
       "      <td>0.0</td>\n",
       "      <td>0.0</td>\n",
       "      <td>479.814437</td>\n",
       "      <td>0.0</td>\n",
       "      <td>46.633853</td>\n",
       "      <td>-45.260194</td>\n",
       "    </tr>\n",
       "    <tr>\n",
       "      <th>98</th>\n",
       "      <td>1</td>\n",
       "      <td>1.566758e+09</td>\n",
       "      <td>0</td>\n",
       "      <td>-71.633853</td>\n",
       "      <td>-149.739806</td>\n",
       "      <td>24</td>\n",
       "      <td>-25.0</td>\n",
       "      <td>-185.0</td>\n",
       "      <td>479.814437</td>\n",
       "      <td>0.0</td>\n",
       "      <td>0.0</td>\n",
       "      <td>0.0</td>\n",
       "      <td>479.814437</td>\n",
       "      <td>0.0</td>\n",
       "      <td>46.633853</td>\n",
       "      <td>-35.260194</td>\n",
       "    </tr>\n",
       "    <tr>\n",
       "      <th>99</th>\n",
       "      <td>1</td>\n",
       "      <td>1.566758e+09</td>\n",
       "      <td>0</td>\n",
       "      <td>-71.633853</td>\n",
       "      <td>-149.739806</td>\n",
       "      <td>24</td>\n",
       "      <td>-25.0</td>\n",
       "      <td>-175.0</td>\n",
       "      <td>479.814437</td>\n",
       "      <td>0.0</td>\n",
       "      <td>0.0</td>\n",
       "      <td>0.0</td>\n",
       "      <td>479.814437</td>\n",
       "      <td>0.0</td>\n",
       "      <td>46.633853</td>\n",
       "      <td>-25.260194</td>\n",
       "    </tr>\n",
       "    <tr>\n",
       "      <th>100</th>\n",
       "      <td>1</td>\n",
       "      <td>1.566758e+09</td>\n",
       "      <td>0</td>\n",
       "      <td>-71.633853</td>\n",
       "      <td>-149.739806</td>\n",
       "      <td>24</td>\n",
       "      <td>-25.0</td>\n",
       "      <td>-165.0</td>\n",
       "      <td>479.814437</td>\n",
       "      <td>0.0</td>\n",
       "      <td>0.0</td>\n",
       "      <td>0.0</td>\n",
       "      <td>479.814437</td>\n",
       "      <td>0.0</td>\n",
       "      <td>46.633853</td>\n",
       "      <td>-15.260194</td>\n",
       "    </tr>\n",
       "  </tbody>\n",
       "</table>\n",
       "</div>"
      ],
      "text/plain": [
       "     event          time  npeak      Xpeak       Ypeak  nsipm     X      Y  \\\n",
       "96       1  1.566758e+09      0 -71.633853 -149.739806     24 -35.0 -165.0   \n",
       "97       1  1.566758e+09      0 -71.633853 -149.739806     24 -25.0 -195.0   \n",
       "98       1  1.566758e+09      0 -71.633853 -149.739806     24 -25.0 -185.0   \n",
       "99       1  1.566758e+09      0 -71.633853 -149.739806     24 -25.0 -175.0   \n",
       "100      1  1.566758e+09      0 -71.633853 -149.739806     24 -25.0 -165.0   \n",
       "\n",
       "              Z    Q    E  NormQ       Zpeak  RelZ       RelX       RelY  \n",
       "96   479.814437  0.0  0.0    0.0  479.814437   0.0  36.633853 -15.260194  \n",
       "97   479.814437  0.0  0.0    0.0  479.814437   0.0  46.633853 -45.260194  \n",
       "98   479.814437  0.0  0.0    0.0  479.814437   0.0  46.633853 -35.260194  \n",
       "99   479.814437  0.0  0.0    0.0  479.814437   0.0  46.633853 -25.260194  \n",
       "100  479.814437  0.0  0.0    0.0  479.814437   0.0  46.633853 -15.260194  "
      ]
     },
     "execution_count": 15,
     "metadata": {},
     "output_type": "execute_result"
    }
   ],
   "source": [
    "hdst.tail()"
   ]
  },
  {
   "cell_type": "markdown",
   "metadata": {},
   "source": [
    "##### Create the psf\n",
    "\n",
    "Create the PSF with the processed hdst, with the number of bins in the given range. The function returns the PSF and the number of entries per bin, so both information can be stored."
   ]
  },
  {
   "cell_type": "code",
   "execution_count": 16,
   "metadata": {},
   "outputs": [
    {
     "name": "stdout",
     "output_type": "stream",
     "text": [
      "Time spent in create_psf: 0.003828287124633789 s\n"
     ]
    }
   ],
   "source": [
    "psf_new, entries_new, bins_new = coref.timefunc(create_psf)((hdst.RelX.values, hdst.RelY.values), hdst.NormQ, [nbinX, nbinY], [Xrange, Yrange])"
   ]
  },
  {
   "cell_type": "markdown",
   "metadata": {},
   "source": [
    "For a single event, the PSF and the sensor response should follow the same distribution."
   ]
  },
  {
   "cell_type": "code",
   "execution_count": 17,
   "metadata": {},
   "outputs": [
    {
     "data": {
      "text/plain": [
       "Text(0.5, 1.0, 'Number of entries in the PSF bins.')"
      ]
     },
     "execution_count": 17,
     "metadata": {},
     "output_type": "execute_result"
    },
    {
     "data": {
      "image/png": "[encoded data removed]",
      "text/plain": [
       "<Figure size 1728x432 with 3 Axes>"
      ]
     },
     "metadata": {
      "needs_background": "light"
     },
     "output_type": "display_data"
    }
   ],
   "source": [
    "fig, axes = plt.subplots(1, 3, figsize=(24, 6))\n",
    "axes[0].hist2d(hdst.RelX, hdst.RelY, bins=[xb, yb], weights=hdst.NormQ)\n",
    "axes[0].set_xlabel('X distance (mm)')\n",
    "axes[0].set_ylabel('Y distance (mm)')\n",
    "axes[0].set_title('Sensor response (from hdst)')\n",
    "axes[1].imshow(psf_new.T, origin='lower', extent=[*Xrange, *Yrange])\n",
    "axes[1].set_xlabel('X distance (mm)')\n",
    "axes[1].set_ylabel('Y distance (mm)')\n",
    "axes[1].set_title('PSF')\n",
    "axes[2].imshow(entries_new.T, origin='lower', extent=[*Xrange, *Yrange])\n",
    "axes[2].set_xlabel('X distance (mm)')\n",
    "axes[2].set_ylabel('Y distance (mm)')\n",
    "axes[2].set_title('Number of entries in the PSF bins.')"
   ]
  }
 ],
 "metadata": {
  "kernelspec": {
   "display_name": "Python 3",
   "language": "python",
   "name": "python3"
  },
  "language_info": {
   "codemirror_mode": {
    "name": "ipython",
    "version": 3
   },
   "file_extension": ".py",
   "mimetype": "text/x-python",
   "name": "python",
   "nbconvert_exporter": "python",
   "pygments_lexer": "ipython3",
   "version": "3.7.2"
  }
 },
 "nbformat": 4,
 "nbformat_minor": 2
}
