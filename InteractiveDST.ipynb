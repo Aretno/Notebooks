{
 "cells": [
  {
   "cell_type": "code",
   "execution_count": 51,
   "metadata": {},
   "outputs": [],
   "source": [
    "from ipywidgets import interact, interactive, fixed, widgets\n",
    "from IPython.display import display\n",
    "\n",
    "import glob\n",
    "import numpy as np\n",
    "import matplotlib.pyplot as plt\n",
    "\n",
    "import invisible_cities.io.dst_io as dstio\n",
    "\n",
    "import invisible_cities.core.core_functions as coref\n",
    "import invisible_cities.core.fit_functions as fitf\n",
    "\n",
    "from invisible_cities.icaro.hst_functions import hist\n",
    "from invisible_cities.core.core_functions import shift_to_bin_centers\n",
    "from invisible_cities.core.core_functions import weighted_mean_and_std"
   ]
  },
  {
   "cell_type": "code",
   "execution_count": 3,
   "metadata": {},
   "outputs": [],
   "source": [
    "%matplotlib inline\n",
    "\n",
    "np.warnings.filterwarnings('ignore')\n",
    "\n",
    "plt.rcParams[\"figure.figsize\"]          = 8, 6\n",
    "plt.rcParams[\"font.size\"]               = 15\n",
    "plt.rcParams[\"figure.max_open_warning\"] = 100\n",
    "\n",
    "profOpt = \"--k\"\n",
    "fitOpt  = \"r\""
   ]
  },
  {
   "cell_type": "code",
   "execution_count": 104,
   "metadata": {},
   "outputs": [],
   "source": [
    "def energySpectrum_RZcut(kdst, rlim, zlim, xlim, ylim, tlim):\n",
    "    fig, ax = plt.subplots(2, 3, figsize=(24,12))\n",
    "    sel = (coref.in_range(kdst.R, rlim[0], rlim[1])) & (coref.in_range(kdst.Z, zlim[0], zlim[1]))\n",
    "    sel = sel & (coref.in_range(kdst.X, xlim[0], xlim[1])) & (coref.in_range(kdst.Y, ylim[0], ylim[1]))\n",
    "    sel = sel & (coref.in_range(kdst.time, tlim[0], tlim[1]))\n",
    "    \n",
    "    #S1e plot\n",
    "    y, x, _ = ax[0,0].hist(kdst.S1e[sel], 100, [0000, 1.5*kdst.S1e[sel].median()] , histtype  = 'step', linewidth = 1.5, color='k')\n",
    "    x=shift_to_bin_centers(x)\n",
    "    ax[0,0].set_xlabel('S1 energy (pes)')\n",
    "    ax[0,0].set_ylabel('Entries')\n",
    "    \n",
    "    mean, std = weighted_mean_and_std(x, y, frequentist = True, unbiased = True)\n",
    "    entries_string = f'Entries = {np.sum(y):.0f}\\n'\n",
    "    mean_string    = f'Mean = {mean:.2f}\\n'\n",
    "    rms_string     = f'RMS  = {std:.2f}'\n",
    "    \n",
    "    ax[0,0].annotate(entries_string + mean_string + rms_string,\n",
    "                     xy                  = (0.99, 0.99),\n",
    "                     xycoords            = 'axes fraction',\n",
    "                     fontsize            = 11,\n",
    "                     weight              = 'bold',\n",
    "                     color               = 'black',\n",
    "                     horizontalalignment = 'right',\n",
    "                     verticalalignment   = 'top')    \n",
    "    ax[0,0].grid     (True)\n",
    "    \n",
    "    # S2e plot\n",
    "    emax = 1.5*kdst.S2e[sel].median()\n",
    "    y, x, _ = ax[0,1].hist(kdst.S2e[sel], 100, [0000, emax], histtype  = 'step', linewidth = 1.5, color='k')\n",
    "    x=shift_to_bin_centers(x)\n",
    "    ax[0,1].set_xlabel('S2 energy (pes)')\n",
    "    ax[0,1].set_ylabel('Entries')\n",
    "    \n",
    "    mean, std = weighted_mean_and_std(x, y, frequentist = True, unbiased = True)\n",
    "    entries_string = f'Entries = {np.sum(y):.0f}\\n'\n",
    "    mean_string    = f'Mean = {mean:.2f}\\n'\n",
    "    rms_string     = f'RMS  = {std:.2f}'\n",
    "    \n",
    "    ax[0,1].annotate(entries_string + mean_string + rms_string,\n",
    "                     xy                  = (0.99, 0.99),\n",
    "                     xycoords            = 'axes fraction',\n",
    "                     fontsize            = 11,\n",
    "                     weight              = 'bold',\n",
    "                     color               = 'black',\n",
    "                     horizontalalignment = 'right',\n",
    "                     verticalalignment   = 'top')\n",
    "    ax[0,1].grid     (True)\n",
    " \n",
    "    #seed = np.max(y), x[np.argmax(y)], np.std(y)\n",
    "    #f    = fitf.fit(fitf.gauss, x, y, seed, fit_range=[x[np.argmax(y)]-1000,x[np.argmax(y)]+1000])\n",
    "    #ax[0,0].plot(x, f.fn(x), 'r')\n",
    "    #ax[0,0].annotate(f'R = {100*f.values[2]*2.35/f.values[1]:.2f}%', xy=(0.01, 0.99), xycoords='axes fraction', fontsize=11, weight='bold')\n",
    "\n",
    "    #S2q plot\n",
    "    y, x, _ = ax[0,2].hist(kdst.S1e[sel], 100, [0000, 1.5*kdst.S2q[sel].median()] , histtype  = 'step', linewidth = 1.5, color='k')\n",
    "    x=shift_to_bin_centers(x)\n",
    "    ax[0,2].set_xlabel('S2 charge (pes)')\n",
    "    ax[0,2].set_ylabel('Entries')\n",
    "    \n",
    "    mean, std = weighted_mean_and_std(x, y, frequentist = True, unbiased = True)\n",
    "    mean_string    = f'Mean = {mean:.2f}\\n'\n",
    "    rms_string     = f'RMS  = {std:.2f}'\n",
    "    \n",
    "    ax[0,2].annotate(mean_string + rms_string,\n",
    "                     xy                  = (0.99, 0.99),\n",
    "                     xycoords            = 'axes fraction',\n",
    "                     fontsize            = 11,\n",
    "                     weight              = 'bold',\n",
    "                     color               = 'black',\n",
    "                     horizontalalignment = 'right',\n",
    "                     verticalalignment   = 'top')    \n",
    "    ax[0,2].grid     (True)\n",
    "\n",
    "    #E vs R plot\n",
    "    ax[1,0].hist2d(kdst.R[sel], kdst.S2e[sel], 100, [[0, 200],[0000, emax]])\n",
    "    ax[1,0].set_xlabel('R (mm)')\n",
    "    ax[1,0].set_ylabel('S2 energy (pes)')\n",
    "    \n",
    "    #E vs Z plot\n",
    "    ax[1,1].hist2d(kdst.Z[sel], kdst.S2e[sel], 100, [[0, 600],[0000, emax]])\n",
    "    ax[1,1].set_xlabel('Drift time (µs)')\n",
    "    ax[1,1].set_ylabel('S2 energy (pes)')\n",
    "    \n",
    "    #E vs time plot\n",
    "    ax[1,2].hist2d(kdst.time[sel], kdst.S2e[sel], 100, [[0, kdst.time.max()],[0000, emax]])\n",
    "    ax[1,2].set_xlabel('Running time (min)')\n",
    "    ax[1,2].set_ylabel('S2 energy (pes)')    \n",
    "    \n",
    "    \n",
    "    fig.tight_layout()"
   ]
  },
  {
   "cell_type": "code",
   "execution_count": 99,
   "metadata": {},
   "outputs": [],
   "source": [
    "def defineRangeSlider(min_val, max_val, title, step=0.1):\n",
    "    layout = {'width':'20%', 'height': '20px'}\n",
    "    return widgets.FloatRangeSlider(value=[min_val, max_val],\n",
    "                                    min=min_val,\n",
    "                                    max=max_val,\n",
    "                                    step=step,\n",
    "                                    description=title,\n",
    "                                    disabled=False,\n",
    "                                    continuous_update=False,\n",
    "                                    orientation='horizontal',\n",
    "                                    readout=True,\n",
    "                                    readout_format='.1f',\n",
    "                                    layout=layout)"
   ]
  },
  {
   "cell_type": "code",
   "execution_count": 100,
   "metadata": {},
   "outputs": [],
   "source": [
    "inpath = glob.glob('/home/lior/NEXT/Software/data/Run4/6181/kdst/kdst*')\n",
    "\n",
    "kdst = dstio.load_dsts(inpath, 'DST', 'Events')"
   ]
  },
  {
   "cell_type": "code",
   "execution_count": 101,
   "metadata": {},
   "outputs": [],
   "source": [
    "kdst.time = (kdst.time - kdst.time.min())/60"
   ]
  },
  {
   "cell_type": "code",
   "execution_count": 106,
   "metadata": {},
   "outputs": [],
   "source": [
    "z = defineRangeSlider(0, 600, 'Z (µs)', 10)\n",
    "r = defineRangeSlider(0, 200, 'R (mm)', 10)\n",
    "x = defineRangeSlider(-200, 200, 'X (mm)', 10)\n",
    "y = defineRangeSlider(-200, 200, 'Y (mm)', 10)\n",
    "t = defineRangeSlider(0, kdst.time.max(), 'Time (min)', 30)"
   ]
  },
  {
   "cell_type": "code",
   "execution_count": 107,
   "metadata": {},
   "outputs": [
    {
     "data": {
      "application/vnd.jupyter.widget-view+json": {
       "model_id": "45b7f62d4c974089b6ce3a4151b76c25",
       "version_major": 2,
       "version_minor": 0
      },
      "text/plain": [
       "interactive(children=(FloatRangeSlider(value=(0.0, 200.0), continuous_update=False, description='R (mm)', layo…"
      ]
     },
     "metadata": {},
     "output_type": "display_data"
    }
   ],
   "source": [
    "w = interactive(energySpectrum_RZcut, kdst=fixed(kdst), rlim=r, zlim=z, xlim=x, ylim=y, tlim=t)\n",
    "display(w)"
   ]
  },
  {
   "cell_type": "markdown",
   "metadata": {},
   "source": [
    "`w` is a widget object that contains the current values results, example for `rmax`:"
   ]
  },
  {
   "cell_type": "code",
   "execution_count": 31,
   "metadata": {},
   "outputs": [
    {
     "data": {
      "text/plain": [
       "140"
      ]
     },
     "execution_count": 31,
     "metadata": {},
     "output_type": "execute_result"
    }
   ],
   "source": [
    "w.kwargs['rmax']"
   ]
  },
  {
   "cell_type": "code",
   "execution_count": null,
   "metadata": {},
   "outputs": [],
   "source": []
  }
 ],
 "metadata": {
  "kernelspec": {
   "display_name": "Python 3",
   "language": "python",
   "name": "python3"
  },
  "language_info": {
   "codemirror_mode": {
    "name": "ipython",
    "version": 3
   },
   "file_extension": ".py",
   "mimetype": "text/x-python",
   "name": "python",
   "nbconvert_exporter": "python",
   "pygments_lexer": "ipython3",
   "version": "3.6.3"
  }
 },
 "nbformat": 4,
 "nbformat_minor": 2
}
