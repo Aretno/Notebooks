{
 "cells": [
  {
   "cell_type": "markdown",
   "metadata": {},
   "source": [
    "<p style=\"font-family: Arial; font-size:3.75em;color:purple; font-style:bold\"><br>\n",
    "IC TABLES - GENERATION</p><br>"
   ]
  },
  {
   "cell_type": "code",
   "execution_count": 2,
   "metadata": {
    "ExecuteTime": {
     "end_time": "2024-10-08T12:50:04.154945Z",
     "start_time": "2024-10-08T12:50:03.892897Z"
    }
   },
   "outputs": [],
   "source": [
    "# General importings\n",
    "import os\n",
    "import json\n",
    "import random\n",
    "\n",
    "import invisible_cities.database.load_db as db"
   ]
  },
  {
   "cell_type": "code",
   "execution_count": 13,
   "metadata": {
    "ExecuteTime": {
     "end_time": "2024-10-08T12:53:02.053538Z",
     "start_time": "2024-10-08T12:53:02.050836Z"
    }
   },
   "outputs": [],
   "source": [
    "# Detectors: \"Tst\", \"Next100\", \"Flex100\", \"FlexDens\"\n",
    "\n",
    "det_name = \"GaP_ext\""
   ]
  },
  {
   "cell_type": "code",
   "execution_count": 14,
   "metadata": {
    "ExecuteTime": {
     "end_time": "2024-10-08T12:53:02.301958Z",
     "start_time": "2024-10-08T12:53:02.299520Z"
    }
   },
   "outputs": [],
   "source": [
    "tables = [\n",
    "    \"ChannelGain\",\n",
    "    \"ChannelMapping\",\n",
    "    \"ChannelMask\",\n",
    "    \"ChannelPosition\",\n",
    "    \"DetectorGeo\",\n",
    "    \"PMTFELowFrequencyNoise\",\n",
    "    \"PMTFEMapping\",\n",
    "    \"PmtBlr\",\n",
    "    \"PmtNoiseRms\"\n",
    "]"
   ]
  },
  {
   "cell_type": "code",
   "execution_count": 85,
   "metadata": {
    "ExecuteTime": {
     "end_time": "2024-10-08T13:35:08.761184Z",
     "start_time": "2024-10-08T13:35:08.756085Z"
    }
   },
   "outputs": [],
   "source": [
    "def load_detector_config(det_name, min_run, max_run):\n",
    "    config_fname = f\"config/{det_name.replace('_ext','')}.config\"\n",
    "\n",
    "    with open(config_fname) as config_file:\n",
    "        det_config = json.load(config_file)\n",
    "        det_config['MinRun'] = min_run\n",
    "        det_config['MaxRun'] = max_run-1\n",
    "    \n",
    "    # Getting sensors info\n",
    "    sensor_labels = det_config[\"SensorLabels\"]\n",
    "    for label in sensor_labels:\n",
    "        det_config[label] = []\n",
    "    \n",
    "    sensors_fname = det_config[\"SensorFile\"].replace('rmin', f'{min_run}').replace('rmax', f'{max_run}')\n",
    "    with open(f\"config/GaP_gains/{sensors_fname}\", 'r') as sensors_file:\n",
    "        for entry in sensors_file.read().splitlines():\n",
    "            words = entry.split()\n",
    "            #ext_pmt = words[0]\n",
    "            if (len(words) and (words[0] in sensor_labels)):\n",
    "                sensor_id = int(words[1])\n",
    "                pos = words[2][1:-1].split(',')\n",
    "                sensor_x = float(pos[0])\n",
    "                sensor_y = float(pos[1])\n",
    "                gain = words[3][1:-1].split(',')\n",
    "                sensor_gain      = float(gain[0])\n",
    "                sensor_gain_err  = float(gain[1])\n",
    "                sensor_sigma     = float(gain[2])\n",
    "                sensor_sigma_err = float(gain[3])\n",
    "                #print(words[0])\n",
    "                det_config[words[0]].append((sensor_id, sensor_x, sensor_y,\n",
    "                                             sensor_gain , sensor_gain_err,\n",
    "                                             sensor_sigma, sensor_sigma_err))\n",
    "        \n",
    "    if '_ext' in det_name:\n",
    "        det_config['PMT'].append((7, 0, 0,\n",
    "                                     1, 0,\n",
    "                                     0, 0))\n",
    "    #print(det_config)\n",
    "    return det_config"
   ]
  },
  {
   "cell_type": "code",
   "execution_count": 80,
   "metadata": {
    "ExecuteTime": {
     "end_time": "2024-10-08T13:28:53.363290Z",
     "start_time": "2024-10-08T13:28:53.359308Z"
    }
   },
   "outputs": [],
   "source": [
    "def get_ChannelGain_entries(det_config):\n",
    "    \n",
    "    template = open(\"templates/ChannelGain.entry\").read()\n",
    "    \n",
    "    \n",
    "    MinRun = det_config[\"MinRun\"]\n",
    "    MaxRun = det_config[\"MaxRun\"]\n",
    "    \n",
    "    entries = \"\"\n",
    "    for label in det_config[\"SensorLabels\"]:\n",
    "        entries += \"\\n\"\n",
    "        for sensor in det_config[label]:\n",
    "            SensorID      = sensor[0]\n",
    "            Centroid      = sensor[3]\n",
    "            ErrorCentroid = sensor[4]\n",
    "            Sigma         = sensor[5]\n",
    "            ErrorSigma    = sensor[6]\n",
    "            params        = locals()\n",
    "            entries      += template.format(**params) + \"\\n\"\n",
    "\n",
    "    return entries"
   ]
  },
  {
   "cell_type": "code",
   "execution_count": 81,
   "metadata": {
    "ExecuteTime": {
     "end_time": "2024-10-08T13:28:53.536487Z",
     "start_time": "2024-10-08T13:28:53.533565Z"
    }
   },
   "outputs": [],
   "source": [
    "def get_ChannelMapping_entries(det_config):\n",
    "    \n",
    "    template = open(\"templates/ChannelMapping.entry\").read()\n",
    "    \n",
    "    MinRun = det_config[\"MinRun\"]\n",
    "    MaxRun = det_config[\"MaxRun\"]\n",
    "\n",
    "    entries = \"\"\n",
    "    for label in det_config[\"SensorLabels\"]:\n",
    "        entries += \"\\n\"\n",
    "        for sensor in det_config[label]:\n",
    "            SensorID = sensor[0]\n",
    "            ElecID   = SensorID\n",
    "            params   = locals()\n",
    "            entries += template.format(**params) + \"\\n\"\n",
    "\n",
    "    return entries"
   ]
  },
  {
   "cell_type": "code",
   "execution_count": 82,
   "metadata": {
    "ExecuteTime": {
     "end_time": "2024-10-08T13:28:53.706991Z",
     "start_time": "2024-10-08T13:28:53.701489Z"
    }
   },
   "outputs": [],
   "source": [
    "def get_ChannelPosition_entries(det_config):\n",
    "    \n",
    "    template = open(\"templates/ChannelPosition.entry\").read()\n",
    "    \n",
    "    MinRun = det_config[\"MinRun\"]\n",
    "    MaxRun = det_config[\"MaxRun\"]\n",
    "\n",
    "    entries = \"\"\n",
    "    for label in det_config[\"SensorLabels\"]:\n",
    "        entries += \"\\n\"\n",
    "        for sensor in det_config[label]:\n",
    "            SensorID      = sensor[0]\n",
    "            Label         = label\n",
    "            Type          = det_config[label + \"_Type\"]\n",
    "            X             = sensor[1]\n",
    "            Y             = sensor[2]\n",
    "            params        = locals()\n",
    "            entries      += template.format(**params) + \"\\n\"\n",
    "            #print(entries)\n",
    "    return entries"
   ]
  },
  {
   "cell_type": "code",
   "execution_count": 83,
   "metadata": {
    "ExecuteTime": {
     "end_time": "2024-10-08T13:28:54.020669Z",
     "start_time": "2024-10-08T13:28:54.017811Z"
    }
   },
   "outputs": [],
   "source": [
    "def get_DetectorGeo_entries(det_config):\n",
    "    \n",
    "    template = open(\"templates/DetectorGeo.entry\").read()\n",
    "    \n",
    "    XMIN = det_config[\"XMIN\"]\n",
    "    XMAX = det_config[\"XMAX\"]\n",
    "    YMIN = det_config[\"YMIN\"]\n",
    "    YMAX = det_config[\"YMAX\"]\n",
    "    ZMIN = det_config[\"ZMIN\"]\n",
    "    ZMAX = det_config[\"ZMAX\"]\n",
    "    RMAX = det_config[\"RMAX\"]\n",
    "\n",
    "    params  = locals()\n",
    "    entries = template.format(**params) + \"\\n\"\n",
    "\n",
    "    return entries"
   ]
  },
  {
   "cell_type": "code",
   "execution_count": 84,
   "metadata": {
    "ExecuteTime": {
     "end_time": "2024-10-08T13:28:54.428873Z",
     "start_time": "2024-10-08T13:28:54.417485Z"
    },
    "scrolled": false
   },
   "outputs": [
    {
     "name": "stdout",
     "output_type": "stream",
     "text": [
      "Generating table ChannelGain ...\n",
      "{'MinRun': 0, 'MaxRun': 234, 'XMIN': -80, 'XMAX': 80, 'YMIN': -80, 'YMAX': 80, 'ZMIN': 0, 'ZMAX': 300, 'RMAX': 80, 'SensorFile': 'GaP.sensors_MinRun_rmin_MaxRun_rmax.txt', 'SensorLabels': ['PMT'], 'PMT_Type': 'Anode', 'PMT': [(0, 0.0, 0.0, 29.83, 0.39, 14.7, 0.42), (1, 36.253, 2.949, 15.27, 0.46, 12.81, 0.33), (2, -15.573, -32.871, 25.05, 0.53, 12.28, 0.57), (3, -20.68, 29.922, 22.21, 0.23, -10.68, 0.26), (4, 20.68, -29.922, 25.46, 0.9, 15.43, 0.96), (5, -36.253, -2.949, 34.77, 0.65, 18.18, 0.7), (6, 15.573, 32.871, 31.02, 0.56, 19.0, 0.6), (7, 0, 0, 1, 0, 0, 0)]}\n",
      "{'MinRun': 235, 'MaxRun': 619, 'XMIN': -80, 'XMAX': 80, 'YMIN': -80, 'YMAX': 80, 'ZMIN': 0, 'ZMAX': 300, 'RMAX': 80, 'SensorFile': 'GaP.sensors_MinRun_rmin_MaxRun_rmax.txt', 'SensorLabels': ['PMT'], 'PMT_Type': 'Anode', 'PMT': [(0, 0.0, 0.0, 22.76, 0.34, 11.89, 0.38), (1, 36.253, 2.949, 12.17, 0.31, 9.35, 0.24), (2, -15.573, -32.871, 23.66, 0.35, 11.87, 0.39), (3, -20.68, 29.922, 17.01, 0.25, 8.62, 0.27), (4, 20.68, -29.922, 22.52, 0.41, 12.58, 0.45), (5, -36.253, -2.949, 27.1, 0.44, 14.08, 0.49), (6, 15.573, 32.871, 20.9, 0.31, 12.18, 0.34), (7, 0, 0, 1, 0, 0, 0)]}\n",
      "{'MinRun': 620, 'MaxRun': 700, 'XMIN': -80, 'XMAX': 80, 'YMIN': -80, 'YMAX': 80, 'ZMIN': 0, 'ZMAX': 300, 'RMAX': 80, 'SensorFile': 'GaP.sensors_MinRun_rmin_MaxRun_rmax.txt', 'SensorLabels': ['PMT'], 'PMT_Type': 'Anode', 'PMT': [(0, 0.0, 0.0, 16.44, 0.55, -11.15, 0.54), (1, 36.253, 2.949, 9.24, 0.25, -8.05, 0.18), (2, -15.573, -32.871, 18.06, 0.39, -12.49, 0.38), (3, -20.68, 29.922, 11.51, 0.48, 7.07, 0.46), (4, 20.68, -29.922, 14.09, 0.67, -13.37, 0.51), (5, -36.253, -2.949, 19.69, 0.55, -14.78, 0.52), (6, 15.573, 32.871, 17.62, 0.28, 9.95, 0.3), (7, 0, 0, 1, 0, 0, 0)]}\n",
      "{'MinRun': 701, 'MaxRun': 1072, 'XMIN': -80, 'XMAX': 80, 'YMIN': -80, 'YMAX': 80, 'ZMIN': 0, 'ZMAX': 300, 'RMAX': 80, 'SensorFile': 'GaP.sensors_MinRun_rmin_MaxRun_rmax.txt', 'SensorLabels': ['PMT'], 'PMT_Type': 'Anode', 'PMT': [(0, 0.0, 0.0, 12.27, 0.25, 6.68, 0.26), (1, 36.253, 2.949, 7.87, 0.29, 6.44, 0.2), (2, -15.573, -32.871, 14.93, 0.22, 6.78, 0.25), (3, -20.68, 29.922, 9.55, 0.37, -5.8, 0.3), (4, 20.68, -29.922, 13.11, 0.27, 7.51, 0.28), (5, -36.253, -2.949, 17.54, 0.24, 8.1, 0.26), (6, 15.573, 32.871, 14.72, 0.4, 10.87, 0.36), (7, 0, 0, 1, 0, 0, 0)]}\n",
      "{'MinRun': 1073, 'MaxRun': 9999, 'XMIN': -80, 'XMAX': 80, 'YMIN': -80, 'YMAX': 80, 'ZMIN': 0, 'ZMAX': 300, 'RMAX': 80, 'SensorFile': 'GaP.sensors_MinRun_rmin_MaxRun_rmax.txt', 'SensorLabels': ['PMT'], 'PMT_Type': 'Anode', 'PMT': [(0, 0.0, 0.0, 11.12, 0.61, 8.18, 0.45), (1, 36.253, 2.949, 7.3, 0.39, -6.39, 0.22), (2, -15.573, -32.871, 14.71, 0.27, 6.94, 0.3), (3, -20.68, 29.922, 8.52, 0.32, 6.03, 0.26), (4, 20.68, -29.922, 13.11, 0.28, 7.69, 0.29), (5, -36.253, -2.949, 16.09, 0.26, 7.2, 0.28), (6, 15.573, 32.871, 12.59, 0.31, 7.92, 0.3), (7, 0, 0, 1, 0, 0, 0)]}\n",
      "Generating table ChannelMapping ...\n",
      "{'MinRun': 0, 'MaxRun': 234, 'XMIN': -80, 'XMAX': 80, 'YMIN': -80, 'YMAX': 80, 'ZMIN': 0, 'ZMAX': 300, 'RMAX': 80, 'SensorFile': 'GaP.sensors_MinRun_rmin_MaxRun_rmax.txt', 'SensorLabels': ['PMT'], 'PMT_Type': 'Anode', 'PMT': [(0, 0.0, 0.0, 29.83, 0.39, 14.7, 0.42), (1, 36.253, 2.949, 15.27, 0.46, 12.81, 0.33), (2, -15.573, -32.871, 25.05, 0.53, 12.28, 0.57), (3, -20.68, 29.922, 22.21, 0.23, -10.68, 0.26), (4, 20.68, -29.922, 25.46, 0.9, 15.43, 0.96), (5, -36.253, -2.949, 34.77, 0.65, 18.18, 0.7), (6, 15.573, 32.871, 31.02, 0.56, 19.0, 0.6), (7, 0, 0, 1, 0, 0, 0)]}\n",
      "{'MinRun': 235, 'MaxRun': 619, 'XMIN': -80, 'XMAX': 80, 'YMIN': -80, 'YMAX': 80, 'ZMIN': 0, 'ZMAX': 300, 'RMAX': 80, 'SensorFile': 'GaP.sensors_MinRun_rmin_MaxRun_rmax.txt', 'SensorLabels': ['PMT'], 'PMT_Type': 'Anode', 'PMT': [(0, 0.0, 0.0, 22.76, 0.34, 11.89, 0.38), (1, 36.253, 2.949, 12.17, 0.31, 9.35, 0.24), (2, -15.573, -32.871, 23.66, 0.35, 11.87, 0.39), (3, -20.68, 29.922, 17.01, 0.25, 8.62, 0.27), (4, 20.68, -29.922, 22.52, 0.41, 12.58, 0.45), (5, -36.253, -2.949, 27.1, 0.44, 14.08, 0.49), (6, 15.573, 32.871, 20.9, 0.31, 12.18, 0.34), (7, 0, 0, 1, 0, 0, 0)]}\n",
      "{'MinRun': 620, 'MaxRun': 700, 'XMIN': -80, 'XMAX': 80, 'YMIN': -80, 'YMAX': 80, 'ZMIN': 0, 'ZMAX': 300, 'RMAX': 80, 'SensorFile': 'GaP.sensors_MinRun_rmin_MaxRun_rmax.txt', 'SensorLabels': ['PMT'], 'PMT_Type': 'Anode', 'PMT': [(0, 0.0, 0.0, 16.44, 0.55, -11.15, 0.54), (1, 36.253, 2.949, 9.24, 0.25, -8.05, 0.18), (2, -15.573, -32.871, 18.06, 0.39, -12.49, 0.38), (3, -20.68, 29.922, 11.51, 0.48, 7.07, 0.46), (4, 20.68, -29.922, 14.09, 0.67, -13.37, 0.51), (5, -36.253, -2.949, 19.69, 0.55, -14.78, 0.52), (6, 15.573, 32.871, 17.62, 0.28, 9.95, 0.3), (7, 0, 0, 1, 0, 0, 0)]}\n",
      "{'MinRun': 701, 'MaxRun': 1072, 'XMIN': -80, 'XMAX': 80, 'YMIN': -80, 'YMAX': 80, 'ZMIN': 0, 'ZMAX': 300, 'RMAX': 80, 'SensorFile': 'GaP.sensors_MinRun_rmin_MaxRun_rmax.txt', 'SensorLabels': ['PMT'], 'PMT_Type': 'Anode', 'PMT': [(0, 0.0, 0.0, 12.27, 0.25, 6.68, 0.26), (1, 36.253, 2.949, 7.87, 0.29, 6.44, 0.2), (2, -15.573, -32.871, 14.93, 0.22, 6.78, 0.25), (3, -20.68, 29.922, 9.55, 0.37, -5.8, 0.3), (4, 20.68, -29.922, 13.11, 0.27, 7.51, 0.28), (5, -36.253, -2.949, 17.54, 0.24, 8.1, 0.26), (6, 15.573, 32.871, 14.72, 0.4, 10.87, 0.36), (7, 0, 0, 1, 0, 0, 0)]}\n",
      "{'MinRun': 1073, 'MaxRun': 9999, 'XMIN': -80, 'XMAX': 80, 'YMIN': -80, 'YMAX': 80, 'ZMIN': 0, 'ZMAX': 300, 'RMAX': 80, 'SensorFile': 'GaP.sensors_MinRun_rmin_MaxRun_rmax.txt', 'SensorLabels': ['PMT'], 'PMT_Type': 'Anode', 'PMT': [(0, 0.0, 0.0, 11.12, 0.61, 8.18, 0.45), (1, 36.253, 2.949, 7.3, 0.39, -6.39, 0.22), (2, -15.573, -32.871, 14.71, 0.27, 6.94, 0.3), (3, -20.68, 29.922, 8.52, 0.32, 6.03, 0.26), (4, 20.68, -29.922, 13.11, 0.28, 7.69, 0.29), (5, -36.253, -2.949, 16.09, 0.26, 7.2, 0.28), (6, 15.573, 32.871, 12.59, 0.31, 7.92, 0.3), (7, 0, 0, 1, 0, 0, 0)]}\n",
      "Generating table ChannelMask ...\n",
      "{'MinRun': 0, 'MaxRun': 234, 'XMIN': -80, 'XMAX': 80, 'YMIN': -80, 'YMAX': 80, 'ZMIN': 0, 'ZMAX': 300, 'RMAX': 80, 'SensorFile': 'GaP.sensors_MinRun_rmin_MaxRun_rmax.txt', 'SensorLabels': ['PMT'], 'PMT_Type': 'Anode', 'PMT': [(0, 0.0, 0.0, 29.83, 0.39, 14.7, 0.42), (1, 36.253, 2.949, 15.27, 0.46, 12.81, 0.33), (2, -15.573, -32.871, 25.05, 0.53, 12.28, 0.57), (3, -20.68, 29.922, 22.21, 0.23, -10.68, 0.26), (4, 20.68, -29.922, 25.46, 0.9, 15.43, 0.96), (5, -36.253, -2.949, 34.77, 0.65, 18.18, 0.7), (6, 15.573, 32.871, 31.02, 0.56, 19.0, 0.6), (7, 0, 0, 1, 0, 0, 0)]}\n",
      "{'MinRun': 235, 'MaxRun': 619, 'XMIN': -80, 'XMAX': 80, 'YMIN': -80, 'YMAX': 80, 'ZMIN': 0, 'ZMAX': 300, 'RMAX': 80, 'SensorFile': 'GaP.sensors_MinRun_rmin_MaxRun_rmax.txt', 'SensorLabels': ['PMT'], 'PMT_Type': 'Anode', 'PMT': [(0, 0.0, 0.0, 22.76, 0.34, 11.89, 0.38), (1, 36.253, 2.949, 12.17, 0.31, 9.35, 0.24), (2, -15.573, -32.871, 23.66, 0.35, 11.87, 0.39), (3, -20.68, 29.922, 17.01, 0.25, 8.62, 0.27), (4, 20.68, -29.922, 22.52, 0.41, 12.58, 0.45), (5, -36.253, -2.949, 27.1, 0.44, 14.08, 0.49), (6, 15.573, 32.871, 20.9, 0.31, 12.18, 0.34), (7, 0, 0, 1, 0, 0, 0)]}\n",
      "{'MinRun': 620, 'MaxRun': 700, 'XMIN': -80, 'XMAX': 80, 'YMIN': -80, 'YMAX': 80, 'ZMIN': 0, 'ZMAX': 300, 'RMAX': 80, 'SensorFile': 'GaP.sensors_MinRun_rmin_MaxRun_rmax.txt', 'SensorLabels': ['PMT'], 'PMT_Type': 'Anode', 'PMT': [(0, 0.0, 0.0, 16.44, 0.55, -11.15, 0.54), (1, 36.253, 2.949, 9.24, 0.25, -8.05, 0.18), (2, -15.573, -32.871, 18.06, 0.39, -12.49, 0.38), (3, -20.68, 29.922, 11.51, 0.48, 7.07, 0.46), (4, 20.68, -29.922, 14.09, 0.67, -13.37, 0.51), (5, -36.253, -2.949, 19.69, 0.55, -14.78, 0.52), (6, 15.573, 32.871, 17.62, 0.28, 9.95, 0.3), (7, 0, 0, 1, 0, 0, 0)]}\n",
      "{'MinRun': 701, 'MaxRun': 1072, 'XMIN': -80, 'XMAX': 80, 'YMIN': -80, 'YMAX': 80, 'ZMIN': 0, 'ZMAX': 300, 'RMAX': 80, 'SensorFile': 'GaP.sensors_MinRun_rmin_MaxRun_rmax.txt', 'SensorLabels': ['PMT'], 'PMT_Type': 'Anode', 'PMT': [(0, 0.0, 0.0, 12.27, 0.25, 6.68, 0.26), (1, 36.253, 2.949, 7.87, 0.29, 6.44, 0.2), (2, -15.573, -32.871, 14.93, 0.22, 6.78, 0.25), (3, -20.68, 29.922, 9.55, 0.37, -5.8, 0.3), (4, 20.68, -29.922, 13.11, 0.27, 7.51, 0.28), (5, -36.253, -2.949, 17.54, 0.24, 8.1, 0.26), (6, 15.573, 32.871, 14.72, 0.4, 10.87, 0.36), (7, 0, 0, 1, 0, 0, 0)]}\n",
      "{'MinRun': 1073, 'MaxRun': 9999, 'XMIN': -80, 'XMAX': 80, 'YMIN': -80, 'YMAX': 80, 'ZMIN': 0, 'ZMAX': 300, 'RMAX': 80, 'SensorFile': 'GaP.sensors_MinRun_rmin_MaxRun_rmax.txt', 'SensorLabels': ['PMT'], 'PMT_Type': 'Anode', 'PMT': [(0, 0.0, 0.0, 11.12, 0.61, 8.18, 0.45), (1, 36.253, 2.949, 7.3, 0.39, -6.39, 0.22), (2, -15.573, -32.871, 14.71, 0.27, 6.94, 0.3), (3, -20.68, 29.922, 8.52, 0.32, 6.03, 0.26), (4, 20.68, -29.922, 13.11, 0.28, 7.69, 0.29), (5, -36.253, -2.949, 16.09, 0.26, 7.2, 0.28), (6, 15.573, 32.871, 12.59, 0.31, 7.92, 0.3), (7, 0, 0, 1, 0, 0, 0)]}\n",
      "Generating table ChannelPosition ...\n",
      "{'MinRun': 0, 'MaxRun': 234, 'XMIN': -80, 'XMAX': 80, 'YMIN': -80, 'YMAX': 80, 'ZMIN': 0, 'ZMAX': 300, 'RMAX': 80, 'SensorFile': 'GaP.sensors_MinRun_rmin_MaxRun_rmax.txt', 'SensorLabels': ['PMT'], 'PMT_Type': 'Anode', 'PMT': [(0, 0.0, 0.0, 29.83, 0.39, 14.7, 0.42), (1, 36.253, 2.949, 15.27, 0.46, 12.81, 0.33), (2, -15.573, -32.871, 25.05, 0.53, 12.28, 0.57), (3, -20.68, 29.922, 22.21, 0.23, -10.68, 0.26), (4, 20.68, -29.922, 25.46, 0.9, 15.43, 0.96), (5, -36.253, -2.949, 34.77, 0.65, 18.18, 0.7), (6, 15.573, 32.871, 31.02, 0.56, 19.0, 0.6), (7, 0, 0, 1, 0, 0, 0)]}\n",
      "{'MinRun': 235, 'MaxRun': 619, 'XMIN': -80, 'XMAX': 80, 'YMIN': -80, 'YMAX': 80, 'ZMIN': 0, 'ZMAX': 300, 'RMAX': 80, 'SensorFile': 'GaP.sensors_MinRun_rmin_MaxRun_rmax.txt', 'SensorLabels': ['PMT'], 'PMT_Type': 'Anode', 'PMT': [(0, 0.0, 0.0, 22.76, 0.34, 11.89, 0.38), (1, 36.253, 2.949, 12.17, 0.31, 9.35, 0.24), (2, -15.573, -32.871, 23.66, 0.35, 11.87, 0.39), (3, -20.68, 29.922, 17.01, 0.25, 8.62, 0.27), (4, 20.68, -29.922, 22.52, 0.41, 12.58, 0.45), (5, -36.253, -2.949, 27.1, 0.44, 14.08, 0.49), (6, 15.573, 32.871, 20.9, 0.31, 12.18, 0.34), (7, 0, 0, 1, 0, 0, 0)]}\n",
      "{'MinRun': 620, 'MaxRun': 700, 'XMIN': -80, 'XMAX': 80, 'YMIN': -80, 'YMAX': 80, 'ZMIN': 0, 'ZMAX': 300, 'RMAX': 80, 'SensorFile': 'GaP.sensors_MinRun_rmin_MaxRun_rmax.txt', 'SensorLabels': ['PMT'], 'PMT_Type': 'Anode', 'PMT': [(0, 0.0, 0.0, 16.44, 0.55, -11.15, 0.54), (1, 36.253, 2.949, 9.24, 0.25, -8.05, 0.18), (2, -15.573, -32.871, 18.06, 0.39, -12.49, 0.38), (3, -20.68, 29.922, 11.51, 0.48, 7.07, 0.46), (4, 20.68, -29.922, 14.09, 0.67, -13.37, 0.51), (5, -36.253, -2.949, 19.69, 0.55, -14.78, 0.52), (6, 15.573, 32.871, 17.62, 0.28, 9.95, 0.3), (7, 0, 0, 1, 0, 0, 0)]}\n",
      "{'MinRun': 701, 'MaxRun': 1072, 'XMIN': -80, 'XMAX': 80, 'YMIN': -80, 'YMAX': 80, 'ZMIN': 0, 'ZMAX': 300, 'RMAX': 80, 'SensorFile': 'GaP.sensors_MinRun_rmin_MaxRun_rmax.txt', 'SensorLabels': ['PMT'], 'PMT_Type': 'Anode', 'PMT': [(0, 0.0, 0.0, 12.27, 0.25, 6.68, 0.26), (1, 36.253, 2.949, 7.87, 0.29, 6.44, 0.2), (2, -15.573, -32.871, 14.93, 0.22, 6.78, 0.25), (3, -20.68, 29.922, 9.55, 0.37, -5.8, 0.3), (4, 20.68, -29.922, 13.11, 0.27, 7.51, 0.28), (5, -36.253, -2.949, 17.54, 0.24, 8.1, 0.26), (6, 15.573, 32.871, 14.72, 0.4, 10.87, 0.36), (7, 0, 0, 1, 0, 0, 0)]}\n",
      "{'MinRun': 1073, 'MaxRun': 9999, 'XMIN': -80, 'XMAX': 80, 'YMIN': -80, 'YMAX': 80, 'ZMIN': 0, 'ZMAX': 300, 'RMAX': 80, 'SensorFile': 'GaP.sensors_MinRun_rmin_MaxRun_rmax.txt', 'SensorLabels': ['PMT'], 'PMT_Type': 'Anode', 'PMT': [(0, 0.0, 0.0, 11.12, 0.61, 8.18, 0.45), (1, 36.253, 2.949, 7.3, 0.39, -6.39, 0.22), (2, -15.573, -32.871, 14.71, 0.27, 6.94, 0.3), (3, -20.68, 29.922, 8.52, 0.32, 6.03, 0.26), (4, 20.68, -29.922, 13.11, 0.28, 7.69, 0.29), (5, -36.253, -2.949, 16.09, 0.26, 7.2, 0.28), (6, 15.573, 32.871, 12.59, 0.31, 7.92, 0.3), (7, 0, 0, 1, 0, 0, 0)]}\n",
      "Generating table DetectorGeo ...\n",
      "{'MinRun': 0, 'MaxRun': 234, 'XMIN': -80, 'XMAX': 80, 'YMIN': -80, 'YMAX': 80, 'ZMIN': 0, 'ZMAX': 300, 'RMAX': 80, 'SensorFile': 'GaP.sensors_MinRun_rmin_MaxRun_rmax.txt', 'SensorLabels': ['PMT'], 'PMT_Type': 'Anode', 'PMT': [(0, 0.0, 0.0, 29.83, 0.39, 14.7, 0.42), (1, 36.253, 2.949, 15.27, 0.46, 12.81, 0.33), (2, -15.573, -32.871, 25.05, 0.53, 12.28, 0.57), (3, -20.68, 29.922, 22.21, 0.23, -10.68, 0.26), (4, 20.68, -29.922, 25.46, 0.9, 15.43, 0.96), (5, -36.253, -2.949, 34.77, 0.65, 18.18, 0.7), (6, 15.573, 32.871, 31.02, 0.56, 19.0, 0.6), (7, 0, 0, 1, 0, 0, 0)]}\n",
      "{'MinRun': 235, 'MaxRun': 619, 'XMIN': -80, 'XMAX': 80, 'YMIN': -80, 'YMAX': 80, 'ZMIN': 0, 'ZMAX': 300, 'RMAX': 80, 'SensorFile': 'GaP.sensors_MinRun_rmin_MaxRun_rmax.txt', 'SensorLabels': ['PMT'], 'PMT_Type': 'Anode', 'PMT': [(0, 0.0, 0.0, 22.76, 0.34, 11.89, 0.38), (1, 36.253, 2.949, 12.17, 0.31, 9.35, 0.24), (2, -15.573, -32.871, 23.66, 0.35, 11.87, 0.39), (3, -20.68, 29.922, 17.01, 0.25, 8.62, 0.27), (4, 20.68, -29.922, 22.52, 0.41, 12.58, 0.45), (5, -36.253, -2.949, 27.1, 0.44, 14.08, 0.49), (6, 15.573, 32.871, 20.9, 0.31, 12.18, 0.34), (7, 0, 0, 1, 0, 0, 0)]}\n",
      "{'MinRun': 620, 'MaxRun': 700, 'XMIN': -80, 'XMAX': 80, 'YMIN': -80, 'YMAX': 80, 'ZMIN': 0, 'ZMAX': 300, 'RMAX': 80, 'SensorFile': 'GaP.sensors_MinRun_rmin_MaxRun_rmax.txt', 'SensorLabels': ['PMT'], 'PMT_Type': 'Anode', 'PMT': [(0, 0.0, 0.0, 16.44, 0.55, -11.15, 0.54), (1, 36.253, 2.949, 9.24, 0.25, -8.05, 0.18), (2, -15.573, -32.871, 18.06, 0.39, -12.49, 0.38), (3, -20.68, 29.922, 11.51, 0.48, 7.07, 0.46), (4, 20.68, -29.922, 14.09, 0.67, -13.37, 0.51), (5, -36.253, -2.949, 19.69, 0.55, -14.78, 0.52), (6, 15.573, 32.871, 17.62, 0.28, 9.95, 0.3), (7, 0, 0, 1, 0, 0, 0)]}\n",
      "{'MinRun': 701, 'MaxRun': 1072, 'XMIN': -80, 'XMAX': 80, 'YMIN': -80, 'YMAX': 80, 'ZMIN': 0, 'ZMAX': 300, 'RMAX': 80, 'SensorFile': 'GaP.sensors_MinRun_rmin_MaxRun_rmax.txt', 'SensorLabels': ['PMT'], 'PMT_Type': 'Anode', 'PMT': [(0, 0.0, 0.0, 12.27, 0.25, 6.68, 0.26), (1, 36.253, 2.949, 7.87, 0.29, 6.44, 0.2), (2, -15.573, -32.871, 14.93, 0.22, 6.78, 0.25), (3, -20.68, 29.922, 9.55, 0.37, -5.8, 0.3), (4, 20.68, -29.922, 13.11, 0.27, 7.51, 0.28), (5, -36.253, -2.949, 17.54, 0.24, 8.1, 0.26), (6, 15.573, 32.871, 14.72, 0.4, 10.87, 0.36), (7, 0, 0, 1, 0, 0, 0)]}\n",
      "{'MinRun': 1073, 'MaxRun': 9999, 'XMIN': -80, 'XMAX': 80, 'YMIN': -80, 'YMAX': 80, 'ZMIN': 0, 'ZMAX': 300, 'RMAX': 80, 'SensorFile': 'GaP.sensors_MinRun_rmin_MaxRun_rmax.txt', 'SensorLabels': ['PMT'], 'PMT_Type': 'Anode', 'PMT': [(0, 0.0, 0.0, 11.12, 0.61, 8.18, 0.45), (1, 36.253, 2.949, 7.3, 0.39, -6.39, 0.22), (2, -15.573, -32.871, 14.71, 0.27, 6.94, 0.3), (3, -20.68, 29.922, 8.52, 0.32, 6.03, 0.26), (4, 20.68, -29.922, 13.11, 0.28, 7.69, 0.29), (5, -36.253, -2.949, 16.09, 0.26, 7.2, 0.28), (6, 15.573, 32.871, 12.59, 0.31, 7.92, 0.3), (7, 0, 0, 1, 0, 0, 0)]}\n",
      "Generating table PMTFELowFrequencyNoise ...\n",
      "{'MinRun': 0, 'MaxRun': 234, 'XMIN': -80, 'XMAX': 80, 'YMIN': -80, 'YMAX': 80, 'ZMIN': 0, 'ZMAX': 300, 'RMAX': 80, 'SensorFile': 'GaP.sensors_MinRun_rmin_MaxRun_rmax.txt', 'SensorLabels': ['PMT'], 'PMT_Type': 'Anode', 'PMT': [(0, 0.0, 0.0, 29.83, 0.39, 14.7, 0.42), (1, 36.253, 2.949, 15.27, 0.46, 12.81, 0.33), (2, -15.573, -32.871, 25.05, 0.53, 12.28, 0.57), (3, -20.68, 29.922, 22.21, 0.23, -10.68, 0.26), (4, 20.68, -29.922, 25.46, 0.9, 15.43, 0.96), (5, -36.253, -2.949, 34.77, 0.65, 18.18, 0.7), (6, 15.573, 32.871, 31.02, 0.56, 19.0, 0.6), (7, 0, 0, 1, 0, 0, 0)]}\n",
      "{'MinRun': 235, 'MaxRun': 619, 'XMIN': -80, 'XMAX': 80, 'YMIN': -80, 'YMAX': 80, 'ZMIN': 0, 'ZMAX': 300, 'RMAX': 80, 'SensorFile': 'GaP.sensors_MinRun_rmin_MaxRun_rmax.txt', 'SensorLabels': ['PMT'], 'PMT_Type': 'Anode', 'PMT': [(0, 0.0, 0.0, 22.76, 0.34, 11.89, 0.38), (1, 36.253, 2.949, 12.17, 0.31, 9.35, 0.24), (2, -15.573, -32.871, 23.66, 0.35, 11.87, 0.39), (3, -20.68, 29.922, 17.01, 0.25, 8.62, 0.27), (4, 20.68, -29.922, 22.52, 0.41, 12.58, 0.45), (5, -36.253, -2.949, 27.1, 0.44, 14.08, 0.49), (6, 15.573, 32.871, 20.9, 0.31, 12.18, 0.34), (7, 0, 0, 1, 0, 0, 0)]}\n",
      "{'MinRun': 620, 'MaxRun': 700, 'XMIN': -80, 'XMAX': 80, 'YMIN': -80, 'YMAX': 80, 'ZMIN': 0, 'ZMAX': 300, 'RMAX': 80, 'SensorFile': 'GaP.sensors_MinRun_rmin_MaxRun_rmax.txt', 'SensorLabels': ['PMT'], 'PMT_Type': 'Anode', 'PMT': [(0, 0.0, 0.0, 16.44, 0.55, -11.15, 0.54), (1, 36.253, 2.949, 9.24, 0.25, -8.05, 0.18), (2, -15.573, -32.871, 18.06, 0.39, -12.49, 0.38), (3, -20.68, 29.922, 11.51, 0.48, 7.07, 0.46), (4, 20.68, -29.922, 14.09, 0.67, -13.37, 0.51), (5, -36.253, -2.949, 19.69, 0.55, -14.78, 0.52), (6, 15.573, 32.871, 17.62, 0.28, 9.95, 0.3), (7, 0, 0, 1, 0, 0, 0)]}\n",
      "{'MinRun': 701, 'MaxRun': 1072, 'XMIN': -80, 'XMAX': 80, 'YMIN': -80, 'YMAX': 80, 'ZMIN': 0, 'ZMAX': 300, 'RMAX': 80, 'SensorFile': 'GaP.sensors_MinRun_rmin_MaxRun_rmax.txt', 'SensorLabels': ['PMT'], 'PMT_Type': 'Anode', 'PMT': [(0, 0.0, 0.0, 12.27, 0.25, 6.68, 0.26), (1, 36.253, 2.949, 7.87, 0.29, 6.44, 0.2), (2, -15.573, -32.871, 14.93, 0.22, 6.78, 0.25), (3, -20.68, 29.922, 9.55, 0.37, -5.8, 0.3), (4, 20.68, -29.922, 13.11, 0.27, 7.51, 0.28), (5, -36.253, -2.949, 17.54, 0.24, 8.1, 0.26), (6, 15.573, 32.871, 14.72, 0.4, 10.87, 0.36), (7, 0, 0, 1, 0, 0, 0)]}\n",
      "{'MinRun': 1073, 'MaxRun': 9999, 'XMIN': -80, 'XMAX': 80, 'YMIN': -80, 'YMAX': 80, 'ZMIN': 0, 'ZMAX': 300, 'RMAX': 80, 'SensorFile': 'GaP.sensors_MinRun_rmin_MaxRun_rmax.txt', 'SensorLabels': ['PMT'], 'PMT_Type': 'Anode', 'PMT': [(0, 0.0, 0.0, 11.12, 0.61, 8.18, 0.45), (1, 36.253, 2.949, 7.3, 0.39, -6.39, 0.22), (2, -15.573, -32.871, 14.71, 0.27, 6.94, 0.3), (3, -20.68, 29.922, 8.52, 0.32, 6.03, 0.26), (4, 20.68, -29.922, 13.11, 0.28, 7.69, 0.29), (5, -36.253, -2.949, 16.09, 0.26, 7.2, 0.28), (6, 15.573, 32.871, 12.59, 0.31, 7.92, 0.3), (7, 0, 0, 1, 0, 0, 0)]}\n",
      "Generating table PMTFEMapping ...\n",
      "{'MinRun': 0, 'MaxRun': 234, 'XMIN': -80, 'XMAX': 80, 'YMIN': -80, 'YMAX': 80, 'ZMIN': 0, 'ZMAX': 300, 'RMAX': 80, 'SensorFile': 'GaP.sensors_MinRun_rmin_MaxRun_rmax.txt', 'SensorLabels': ['PMT'], 'PMT_Type': 'Anode', 'PMT': [(0, 0.0, 0.0, 29.83, 0.39, 14.7, 0.42), (1, 36.253, 2.949, 15.27, 0.46, 12.81, 0.33), (2, -15.573, -32.871, 25.05, 0.53, 12.28, 0.57), (3, -20.68, 29.922, 22.21, 0.23, -10.68, 0.26), (4, 20.68, -29.922, 25.46, 0.9, 15.43, 0.96), (5, -36.253, -2.949, 34.77, 0.65, 18.18, 0.7), (6, 15.573, 32.871, 31.02, 0.56, 19.0, 0.6), (7, 0, 0, 1, 0, 0, 0)]}\n",
      "{'MinRun': 235, 'MaxRun': 619, 'XMIN': -80, 'XMAX': 80, 'YMIN': -80, 'YMAX': 80, 'ZMIN': 0, 'ZMAX': 300, 'RMAX': 80, 'SensorFile': 'GaP.sensors_MinRun_rmin_MaxRun_rmax.txt', 'SensorLabels': ['PMT'], 'PMT_Type': 'Anode', 'PMT': [(0, 0.0, 0.0, 22.76, 0.34, 11.89, 0.38), (1, 36.253, 2.949, 12.17, 0.31, 9.35, 0.24), (2, -15.573, -32.871, 23.66, 0.35, 11.87, 0.39), (3, -20.68, 29.922, 17.01, 0.25, 8.62, 0.27), (4, 20.68, -29.922, 22.52, 0.41, 12.58, 0.45), (5, -36.253, -2.949, 27.1, 0.44, 14.08, 0.49), (6, 15.573, 32.871, 20.9, 0.31, 12.18, 0.34), (7, 0, 0, 1, 0, 0, 0)]}\n",
      "{'MinRun': 620, 'MaxRun': 700, 'XMIN': -80, 'XMAX': 80, 'YMIN': -80, 'YMAX': 80, 'ZMIN': 0, 'ZMAX': 300, 'RMAX': 80, 'SensorFile': 'GaP.sensors_MinRun_rmin_MaxRun_rmax.txt', 'SensorLabels': ['PMT'], 'PMT_Type': 'Anode', 'PMT': [(0, 0.0, 0.0, 16.44, 0.55, -11.15, 0.54), (1, 36.253, 2.949, 9.24, 0.25, -8.05, 0.18), (2, -15.573, -32.871, 18.06, 0.39, -12.49, 0.38), (3, -20.68, 29.922, 11.51, 0.48, 7.07, 0.46), (4, 20.68, -29.922, 14.09, 0.67, -13.37, 0.51), (5, -36.253, -2.949, 19.69, 0.55, -14.78, 0.52), (6, 15.573, 32.871, 17.62, 0.28, 9.95, 0.3), (7, 0, 0, 1, 0, 0, 0)]}\n",
      "{'MinRun': 701, 'MaxRun': 1072, 'XMIN': -80, 'XMAX': 80, 'YMIN': -80, 'YMAX': 80, 'ZMIN': 0, 'ZMAX': 300, 'RMAX': 80, 'SensorFile': 'GaP.sensors_MinRun_rmin_MaxRun_rmax.txt', 'SensorLabels': ['PMT'], 'PMT_Type': 'Anode', 'PMT': [(0, 0.0, 0.0, 12.27, 0.25, 6.68, 0.26), (1, 36.253, 2.949, 7.87, 0.29, 6.44, 0.2), (2, -15.573, -32.871, 14.93, 0.22, 6.78, 0.25), (3, -20.68, 29.922, 9.55, 0.37, -5.8, 0.3), (4, 20.68, -29.922, 13.11, 0.27, 7.51, 0.28), (5, -36.253, -2.949, 17.54, 0.24, 8.1, 0.26), (6, 15.573, 32.871, 14.72, 0.4, 10.87, 0.36), (7, 0, 0, 1, 0, 0, 0)]}\n",
      "{'MinRun': 1073, 'MaxRun': 9999, 'XMIN': -80, 'XMAX': 80, 'YMIN': -80, 'YMAX': 80, 'ZMIN': 0, 'ZMAX': 300, 'RMAX': 80, 'SensorFile': 'GaP.sensors_MinRun_rmin_MaxRun_rmax.txt', 'SensorLabels': ['PMT'], 'PMT_Type': 'Anode', 'PMT': [(0, 0.0, 0.0, 11.12, 0.61, 8.18, 0.45), (1, 36.253, 2.949, 7.3, 0.39, -6.39, 0.22), (2, -15.573, -32.871, 14.71, 0.27, 6.94, 0.3), (3, -20.68, 29.922, 8.52, 0.32, 6.03, 0.26), (4, 20.68, -29.922, 13.11, 0.28, 7.69, 0.29), (5, -36.253, -2.949, 16.09, 0.26, 7.2, 0.28), (6, 15.573, 32.871, 12.59, 0.31, 7.92, 0.3), (7, 0, 0, 1, 0, 0, 0)]}\n",
      "Generating table PmtBlr ...\n",
      "{'MinRun': 0, 'MaxRun': 234, 'XMIN': -80, 'XMAX': 80, 'YMIN': -80, 'YMAX': 80, 'ZMIN': 0, 'ZMAX': 300, 'RMAX': 80, 'SensorFile': 'GaP.sensors_MinRun_rmin_MaxRun_rmax.txt', 'SensorLabels': ['PMT'], 'PMT_Type': 'Anode', 'PMT': [(0, 0.0, 0.0, 29.83, 0.39, 14.7, 0.42), (1, 36.253, 2.949, 15.27, 0.46, 12.81, 0.33), (2, -15.573, -32.871, 25.05, 0.53, 12.28, 0.57), (3, -20.68, 29.922, 22.21, 0.23, -10.68, 0.26), (4, 20.68, -29.922, 25.46, 0.9, 15.43, 0.96), (5, -36.253, -2.949, 34.77, 0.65, 18.18, 0.7), (6, 15.573, 32.871, 31.02, 0.56, 19.0, 0.6), (7, 0, 0, 1, 0, 0, 0)]}\n",
      "{'MinRun': 235, 'MaxRun': 619, 'XMIN': -80, 'XMAX': 80, 'YMIN': -80, 'YMAX': 80, 'ZMIN': 0, 'ZMAX': 300, 'RMAX': 80, 'SensorFile': 'GaP.sensors_MinRun_rmin_MaxRun_rmax.txt', 'SensorLabels': ['PMT'], 'PMT_Type': 'Anode', 'PMT': [(0, 0.0, 0.0, 22.76, 0.34, 11.89, 0.38), (1, 36.253, 2.949, 12.17, 0.31, 9.35, 0.24), (2, -15.573, -32.871, 23.66, 0.35, 11.87, 0.39), (3, -20.68, 29.922, 17.01, 0.25, 8.62, 0.27), (4, 20.68, -29.922, 22.52, 0.41, 12.58, 0.45), (5, -36.253, -2.949, 27.1, 0.44, 14.08, 0.49), (6, 15.573, 32.871, 20.9, 0.31, 12.18, 0.34), (7, 0, 0, 1, 0, 0, 0)]}\n",
      "{'MinRun': 620, 'MaxRun': 700, 'XMIN': -80, 'XMAX': 80, 'YMIN': -80, 'YMAX': 80, 'ZMIN': 0, 'ZMAX': 300, 'RMAX': 80, 'SensorFile': 'GaP.sensors_MinRun_rmin_MaxRun_rmax.txt', 'SensorLabels': ['PMT'], 'PMT_Type': 'Anode', 'PMT': [(0, 0.0, 0.0, 16.44, 0.55, -11.15, 0.54), (1, 36.253, 2.949, 9.24, 0.25, -8.05, 0.18), (2, -15.573, -32.871, 18.06, 0.39, -12.49, 0.38), (3, -20.68, 29.922, 11.51, 0.48, 7.07, 0.46), (4, 20.68, -29.922, 14.09, 0.67, -13.37, 0.51), (5, -36.253, -2.949, 19.69, 0.55, -14.78, 0.52), (6, 15.573, 32.871, 17.62, 0.28, 9.95, 0.3), (7, 0, 0, 1, 0, 0, 0)]}\n",
      "{'MinRun': 701, 'MaxRun': 1072, 'XMIN': -80, 'XMAX': 80, 'YMIN': -80, 'YMAX': 80, 'ZMIN': 0, 'ZMAX': 300, 'RMAX': 80, 'SensorFile': 'GaP.sensors_MinRun_rmin_MaxRun_rmax.txt', 'SensorLabels': ['PMT'], 'PMT_Type': 'Anode', 'PMT': [(0, 0.0, 0.0, 12.27, 0.25, 6.68, 0.26), (1, 36.253, 2.949, 7.87, 0.29, 6.44, 0.2), (2, -15.573, -32.871, 14.93, 0.22, 6.78, 0.25), (3, -20.68, 29.922, 9.55, 0.37, -5.8, 0.3), (4, 20.68, -29.922, 13.11, 0.27, 7.51, 0.28), (5, -36.253, -2.949, 17.54, 0.24, 8.1, 0.26), (6, 15.573, 32.871, 14.72, 0.4, 10.87, 0.36), (7, 0, 0, 1, 0, 0, 0)]}\n",
      "{'MinRun': 1073, 'MaxRun': 9999, 'XMIN': -80, 'XMAX': 80, 'YMIN': -80, 'YMAX': 80, 'ZMIN': 0, 'ZMAX': 300, 'RMAX': 80, 'SensorFile': 'GaP.sensors_MinRun_rmin_MaxRun_rmax.txt', 'SensorLabels': ['PMT'], 'PMT_Type': 'Anode', 'PMT': [(0, 0.0, 0.0, 11.12, 0.61, 8.18, 0.45), (1, 36.253, 2.949, 7.3, 0.39, -6.39, 0.22), (2, -15.573, -32.871, 14.71, 0.27, 6.94, 0.3), (3, -20.68, 29.922, 8.52, 0.32, 6.03, 0.26), (4, 20.68, -29.922, 13.11, 0.28, 7.69, 0.29), (5, -36.253, -2.949, 16.09, 0.26, 7.2, 0.28), (6, 15.573, 32.871, 12.59, 0.31, 7.92, 0.3), (7, 0, 0, 1, 0, 0, 0)]}\n",
      "Generating table PmtNoiseRms ...\n",
      "{'MinRun': 0, 'MaxRun': 234, 'XMIN': -80, 'XMAX': 80, 'YMIN': -80, 'YMAX': 80, 'ZMIN': 0, 'ZMAX': 300, 'RMAX': 80, 'SensorFile': 'GaP.sensors_MinRun_rmin_MaxRun_rmax.txt', 'SensorLabels': ['PMT'], 'PMT_Type': 'Anode', 'PMT': [(0, 0.0, 0.0, 29.83, 0.39, 14.7, 0.42), (1, 36.253, 2.949, 15.27, 0.46, 12.81, 0.33), (2, -15.573, -32.871, 25.05, 0.53, 12.28, 0.57), (3, -20.68, 29.922, 22.21, 0.23, -10.68, 0.26), (4, 20.68, -29.922, 25.46, 0.9, 15.43, 0.96), (5, -36.253, -2.949, 34.77, 0.65, 18.18, 0.7), (6, 15.573, 32.871, 31.02, 0.56, 19.0, 0.6), (7, 0, 0, 1, 0, 0, 0)]}\n",
      "{'MinRun': 235, 'MaxRun': 619, 'XMIN': -80, 'XMAX': 80, 'YMIN': -80, 'YMAX': 80, 'ZMIN': 0, 'ZMAX': 300, 'RMAX': 80, 'SensorFile': 'GaP.sensors_MinRun_rmin_MaxRun_rmax.txt', 'SensorLabels': ['PMT'], 'PMT_Type': 'Anode', 'PMT': [(0, 0.0, 0.0, 22.76, 0.34, 11.89, 0.38), (1, 36.253, 2.949, 12.17, 0.31, 9.35, 0.24), (2, -15.573, -32.871, 23.66, 0.35, 11.87, 0.39), (3, -20.68, 29.922, 17.01, 0.25, 8.62, 0.27), (4, 20.68, -29.922, 22.52, 0.41, 12.58, 0.45), (5, -36.253, -2.949, 27.1, 0.44, 14.08, 0.49), (6, 15.573, 32.871, 20.9, 0.31, 12.18, 0.34), (7, 0, 0, 1, 0, 0, 0)]}\n",
      "{'MinRun': 620, 'MaxRun': 700, 'XMIN': -80, 'XMAX': 80, 'YMIN': -80, 'YMAX': 80, 'ZMIN': 0, 'ZMAX': 300, 'RMAX': 80, 'SensorFile': 'GaP.sensors_MinRun_rmin_MaxRun_rmax.txt', 'SensorLabels': ['PMT'], 'PMT_Type': 'Anode', 'PMT': [(0, 0.0, 0.0, 16.44, 0.55, -11.15, 0.54), (1, 36.253, 2.949, 9.24, 0.25, -8.05, 0.18), (2, -15.573, -32.871, 18.06, 0.39, -12.49, 0.38), (3, -20.68, 29.922, 11.51, 0.48, 7.07, 0.46), (4, 20.68, -29.922, 14.09, 0.67, -13.37, 0.51), (5, -36.253, -2.949, 19.69, 0.55, -14.78, 0.52), (6, 15.573, 32.871, 17.62, 0.28, 9.95, 0.3), (7, 0, 0, 1, 0, 0, 0)]}\n",
      "{'MinRun': 701, 'MaxRun': 1072, 'XMIN': -80, 'XMAX': 80, 'YMIN': -80, 'YMAX': 80, 'ZMIN': 0, 'ZMAX': 300, 'RMAX': 80, 'SensorFile': 'GaP.sensors_MinRun_rmin_MaxRun_rmax.txt', 'SensorLabels': ['PMT'], 'PMT_Type': 'Anode', 'PMT': [(0, 0.0, 0.0, 12.27, 0.25, 6.68, 0.26), (1, 36.253, 2.949, 7.87, 0.29, 6.44, 0.2), (2, -15.573, -32.871, 14.93, 0.22, 6.78, 0.25), (3, -20.68, 29.922, 9.55, 0.37, -5.8, 0.3), (4, 20.68, -29.922, 13.11, 0.27, 7.51, 0.28), (5, -36.253, -2.949, 17.54, 0.24, 8.1, 0.26), (6, 15.573, 32.871, 14.72, 0.4, 10.87, 0.36), (7, 0, 0, 1, 0, 0, 0)]}\n",
      "{'MinRun': 1073, 'MaxRun': 9999, 'XMIN': -80, 'XMAX': 80, 'YMIN': -80, 'YMAX': 80, 'ZMIN': 0, 'ZMAX': 300, 'RMAX': 80, 'SensorFile': 'GaP.sensors_MinRun_rmin_MaxRun_rmax.txt', 'SensorLabels': ['PMT'], 'PMT_Type': 'Anode', 'PMT': [(0, 0.0, 0.0, 11.12, 0.61, 8.18, 0.45), (1, 36.253, 2.949, 7.3, 0.39, -6.39, 0.22), (2, -15.573, -32.871, 14.71, 0.27, 6.94, 0.3), (3, -20.68, 29.922, 8.52, 0.32, 6.03, 0.26), (4, 20.68, -29.922, 13.11, 0.28, 7.69, 0.29), (5, -36.253, -2.949, 16.09, 0.26, 7.2, 0.28), (6, 15.573, 32.871, 12.59, 0.31, 7.92, 0.3), (7, 0, 0, 1, 0, 0, 0)]}\n",
      "Done !!\n"
     ]
    }
   ],
   "source": [
    "### Reading Detector Configuration\n",
    "\n",
    "runs = [0, 235, 620, 701, 1073, 10000]\n",
    "\n",
    "### PATHs\n",
    "tPath = \"./templates\"\n",
    "oPath = f\"{det_name}\"\n",
    "if not os.path.isdir(oPath):\n",
    "    os.makedirs(oPath)\n",
    "\n",
    "### Generating tables\n",
    "for table in tables:\n",
    "    \n",
    "    print(f\"Generating table {table} ...\")\n",
    "    table_fname  = f\"{oPath}/{table}.sql\"\n",
    "\n",
    "    if table == \"SipmNoisePDF\":\n",
    "        generate_SipmNoisePDF_DB(tPath, table_fname)\n",
    "    else:\n",
    "        # Getting header\n",
    "        header_fname = f\"{tPath}/{table}.h\"\n",
    "        with open(header_fname, 'r') as header_file:\n",
    "            content = header_file.read() + \"\\n\"\n",
    "            \n",
    "        for r0, r1 in zip(runs, runs[1:]):\n",
    "            det_config = load_detector_config(det_name, r0, r1)\n",
    "            \n",
    "        # Add table registers\n",
    "            if table   == \"ChannelGain\"    : content += get_ChannelGain_entries(det_config)\n",
    "            elif table == \"ChannelMapping\" : content += get_ChannelMapping_entries(det_config)\n",
    "            elif table == \"ChannelPosition\": content += get_ChannelPosition_entries(det_config)\n",
    "            elif table == \"DetectorGeo\"    : content += get_DetectorGeo_entries(det_config)\n",
    "            elif table == \"SipmBaseline\"   : content += get_SipmBaseline_entries(det_config)\n",
    "    \n",
    "            # Writing table\n",
    "            with open(table_fname, 'w') as table_file:\n",
    "                table_file.write(content)\n",
    "            #print(f\"Runs {r0} to {r1} finished\")  \n",
    "            \n",
    "print(\"Done !!\")"
   ]
  },
  {
   "cell_type": "code",
   "execution_count": 60,
   "metadata": {
    "ExecuteTime": {
     "end_time": "2024-10-08T13:22:28.612209Z",
     "start_time": "2024-10-08T13:22:28.608521Z"
    }
   },
   "outputs": [
    {
     "data": {
      "text/plain": [
       "'GaP_ext/PmtNoiseRms.sql'"
      ]
     },
     "execution_count": 60,
     "metadata": {},
     "output_type": "execute_result"
    }
   ],
   "source": [
    "table_fname"
   ]
  },
  {
   "cell_type": "code",
   "execution_count": null,
   "metadata": {},
   "outputs": [],
   "source": []
  }
 ],
 "metadata": {
  "kernelspec": {
   "display_name": "Python 3 (ipykernel)",
   "language": "python",
   "name": "python3"
  },
  "language_info": {
   "codemirror_mode": {
    "name": "ipython",
    "version": 3
   },
   "file_extension": ".py",
   "mimetype": "text/x-python",
   "name": "python",
   "nbconvert_exporter": "python",
   "pygments_lexer": "ipython3",
   "version": "3.8.13"
  },
  "toc": {
   "base_numbering": 1,
   "nav_menu": {},
   "number_sections": true,
   "sideBar": true,
   "skip_h1_title": false,
   "title_cell": "Table of Contents",
   "title_sidebar": "Contents",
   "toc_cell": false,
   "toc_position": {},
   "toc_section_display": true,
   "toc_window_display": false
  }
 },
 "nbformat": 4,
 "nbformat_minor": 2
}
