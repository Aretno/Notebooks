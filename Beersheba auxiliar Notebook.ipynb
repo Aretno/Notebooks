{
 "cells": [
  {
   "cell_type": "markdown",
   "metadata": {},
   "source": [
    "# Auxiliary notebook for PR 666: Beersheba - deconvolution city"
   ]
  },
  {
   "cell_type": "markdown",
   "metadata": {},
   "source": [
    "This notebooks explains the procedure and most of the implemented functions in beersheba, a city which applies Lucy-Richardson deconvolution to SiPM images."
   ]
  },
  {
   "cell_type": "code",
   "execution_count": 1,
   "metadata": {},
   "outputs": [],
   "source": [
    "import pandas as pd\n",
    "import numpy  as np\n",
    "\n",
    "import invisible_cities.core.core_functions                   as     coref\n",
    "import invisible_cities.io  .dst_io                           as     dstio\n",
    "\n",
    "from invisible_cities.cities                 import beersheba as beerfun\n",
    "\n",
    "from invisible_cities. reco.deconv_functions import deconvolve\n",
    "from invisible_cities. reco.deconv_functions import deconvolution_input\n",
    "from invisible_cities. reco.deconv_functions import InterpolationMethod"
   ]
  },
  {
   "cell_type": "code",
   "execution_count": 2,
   "metadata": {},
   "outputs": [],
   "source": [
    "import matplotlib.pyplot as plt\n",
    "\n",
    "plt.rcParams[\"figure.figsize\"]          = 8, 6\n",
    "plt.rcParams[\"font.size\"]               = 16\n",
    "plt.rcParams[\"figure.max_open_warning\"] = 100"
   ]
  },
  {
   "cell_type": "code",
   "execution_count": 3,
   "metadata": {},
   "outputs": [],
   "source": [
    "# Input file and some event IDs to look at.\n",
    "file = '/home/lior/NEXT/Software/data/Lucy/beersheba/paola_paper/hits/Tl208_NEW_v1_03_01_nexus_v5_03_04_UPPER_PORT_IC2610993_marija_pmaps_0.h5'\n",
    "evts = [8, 9, 11]\n",
    "\n",
    "# Parameters involved in beersheba city and the deconvolution.\n",
    "\n",
    "deconv_params     = dict(\n",
    "  q_cut           = 10,\n",
    "  drop_dist       = [10., 10.],\n",
    "  psf_fname       = '/home/lior/NEXT/Software/data/Lucy/Kr_MC/psf/V3_PSF_dst_sum_collapsed.h5',                                                                                   \n",
    "  e_cut           = 0.008,\n",
    "  n_iterations    = 30,\n",
    "  n_iterations_g  = 30,\n",
    "  iteration_tol   = 0.0000000001,\n",
    "  sample_width    = [10., 10.],\n",
    "  bin_size        = [ 1,  1],\n",
    "  energy_type     = 'Ec',\n",
    "  diffusion       = (1.072, 1.072, 0.3),\n",
    "  deconv_mode     = 'joint',\n",
    "  n_dim           = 2,\n",
    "  cut_type        = 'abs',\n",
    "  inter_method    = 'cubic')\n",
    "\n",
    "deconv_params_   = {k : v for k, v in deconv_params.items() if k not in ['q_cut', 'drop_dist']}\n",
    "\n",
    "# Couple of functions used in beersheba.\n",
    "\n",
    "cut_sensors       = beerfun.cut_over_Q   (deconv_params['q_cut'    ], ['E', 'Ec'])\n",
    "drop_sensors      = beerfun.drop_isolated(deconv_params['drop_dist'], ['E', 'Ec'])"
   ]
  },
  {
   "cell_type": "markdown",
   "metadata": {},
   "source": [
    "## City flow"
   ]
  },
  {
   "cell_type": "markdown",
   "metadata": {},
   "source": [
    "##### Input SiPM signal.\n",
    "\n",
    "SiPM signal which the city takes (esmeralda hits)."
   ]
  },
  {
   "cell_type": "code",
   "execution_count": 4,
   "metadata": {},
   "outputs": [],
   "source": [
    "hdst = dstio.load_dst(file, 'RECO', 'Events')\n",
    "evt  = evts[0]\n",
    "hits = hdst[hdst.event == evt]"
   ]
  },
  {
   "cell_type": "code",
   "execution_count": 5,
   "metadata": {},
   "outputs": [
    {
     "data": {
      "image/png": "[encoded data removed]",
      "text/plain": [
       "<Figure size 1296x288 with 3 Axes>"
      ]
     },
     "metadata": {
      "needs_background": "light"
     },
     "output_type": "display_data"
    }
   ],
   "source": [
    "fig, axes = plt.subplots(1, 3, figsize=(18, 4))\n",
    "\n",
    "xx = np.arange(hits.X.min(), hits.X.max() + 10, 10)\n",
    "yy = np.arange(hits.Y.min(), hits.Y.max() + 10, 10)\n",
    "zz = hits.Z.unique()\n",
    "\n",
    "axes[0].hist2d(hits.X, hits.Y, bins=[xx, yy], weights=hits.Q);\n",
    "axes[0].set_xlabel('X (mm)');\n",
    "axes[0].set_ylabel('Y (mm)');\n",
    "\n",
    "axes[1].hist2d(hits.X, hits.Z, bins=[xx, zz], weights=hits.Q);\n",
    "axes[1].set_xlabel('X (mm)');\n",
    "axes[1].set_ylabel('Z (mm)');\n",
    "\n",
    "\n",
    "axes[2].hist2d(hits.Y, hits.Z, bins=[yy, zz], weights=hits.Q);\n",
    "axes[2].set_xlabel('Y (mm)');\n",
    "axes[2].set_ylabel('Z (mm)');"
   ]
  },
  {
   "cell_type": "markdown",
   "metadata": {},
   "source": [
    "##### Cut sensors\n",
    "\n",
    "Cut sensors below a given threshold, this cleans the signal and removes hits considered not part of the image. It can be seen that the cut does not harm the image noticeably."
   ]
  },
  {
   "cell_type": "code",
   "execution_count": 6,
   "metadata": {},
   "outputs": [
    {
     "name": "stdout",
     "output_type": "stream",
     "text": [
      "Time spent in cut_over_Q: 0.0169830322265625 s\n"
     ]
    }
   ],
   "source": [
    "hits_cut = coref.timefunc(cut_sensors)(hits.copy())"
   ]
  },
  {
   "cell_type": "code",
   "execution_count": 7,
   "metadata": {},
   "outputs": [
    {
     "data": {
      "image/png": "[encoded data removed]",
      "text/plain": [
       "<Figure size 1296x288 with 3 Axes>"
      ]
     },
     "metadata": {
      "needs_background": "light"
     },
     "output_type": "display_data"
    }
   ],
   "source": [
    "fig, axes = plt.subplots(1, 3, figsize=(18, 4))\n",
    "\n",
    "xx = np.arange(hits.X.min(), hits.X.max() + 10, 10)\n",
    "yy = np.arange(hits.Y.min(), hits.Y.max() + 10, 10)\n",
    "zz = hits.Z.unique()\n",
    "\n",
    "axes[0].hist2d(hits_cut.X, hits_cut.Y, bins=[xx, yy], weights=hits_cut.Q);\n",
    "axes[0].set_xlabel('X (mm)');\n",
    "axes[0].set_ylabel('Y (mm)');\n",
    "\n",
    "axes[1].hist2d(hits_cut.X, hits_cut.Z, bins=[xx, zz], weights=hits_cut.Q);\n",
    "axes[1].set_xlabel('X (mm)');\n",
    "axes[1].set_ylabel('Z (mm)');\n",
    "\n",
    "\n",
    "axes[2].hist2d(hits_cut.Y, hits_cut.Z, bins=[yy, zz], weights=hits_cut.Q);\n",
    "axes[2].set_xlabel('Y (mm)');\n",
    "axes[2].set_ylabel('Z (mm)');"
   ]
  },
  {
   "cell_type": "markdown",
   "metadata": {},
   "source": [
    "Increased cut to see the impact of the function on higher thresholds:"
   ]
  },
  {
   "cell_type": "code",
   "execution_count": 8,
   "metadata": {},
   "outputs": [
    {
     "name": "stdout",
     "output_type": "stream",
     "text": [
      "Time spent in cut_over_Q: 0.02303290367126465 s\n"
     ]
    }
   ],
   "source": [
    "cut_sensors_high = beerfun.cut_over_Q(40, ['E', 'Ec'])\n",
    "hits_cut_2       = coref.timefunc(cut_sensors_high)(hits.copy())"
   ]
  },
  {
   "cell_type": "code",
   "execution_count": 9,
   "metadata": {},
   "outputs": [
    {
     "data": {
      "image/png": "[encoded data removed]",
      "text/plain": [
       "<Figure size 1296x288 with 3 Axes>"
      ]
     },
     "metadata": {
      "needs_background": "light"
     },
     "output_type": "display_data"
    }
   ],
   "source": [
    "fig, axes = plt.subplots(1, 3, figsize=(18, 4))\n",
    "\n",
    "xx = np.arange(hits.X.min(), hits.X.max() + 10, 10)\n",
    "yy = np.arange(hits.Y.min(), hits.Y.max() + 10, 10)\n",
    "zz = hits.Z.unique()\n",
    "\n",
    "axes[0].hist2d(hits_cut_2.X, hits_cut_2.Y, bins=[xx, yy], weights=hits_cut_2.Q);\n",
    "axes[0].set_xlabel('X (mm)');\n",
    "axes[0].set_ylabel('Y (mm)');\n",
    "\n",
    "axes[1].hist2d(hits_cut_2.X, hits_cut_2.Z, bins=[xx, zz], weights=hits_cut_2.Q);\n",
    "axes[1].set_xlabel('X (mm)');\n",
    "axes[1].set_ylabel('Z (mm)');\n",
    "\n",
    "axes[2].hist2d(hits_cut_2.Y, hits_cut_2.Z, bins=[yy, zz], weights=hits_cut_2.Q);\n",
    "axes[2].set_xlabel('Y (mm)');\n",
    "axes[2].set_ylabel('Z (mm)');"
   ]
  },
  {
   "cell_type": "markdown",
   "metadata": {},
   "source": [
    "When cutting, the energy is distributed through the reminding hits so the total energy of the event remains the same:"
   ]
  },
  {
   "cell_type": "code",
   "execution_count": 10,
   "metadata": {},
   "outputs": [
    {
     "name": "stdout",
     "output_type": "stream",
     "text": [
      "Energy (corrected) before cuts:    369901.393409729 (1.446286533056059)\n",
      "Energy (corrected) after low cut:  369901.393409729 (1.446286533056059)\n",
      "Energy (corrected) after high cut: 369901.393409729 (1.4462865330560586)\n"
     ]
    }
   ],
   "source": [
    "print(f'Energy (corrected) before cuts:    {hits.E.sum()} ({hits.Ec.sum()})')\n",
    "print(f'Energy (corrected) after low cut:  {hits_cut.E.sum()} ({hits_cut.Ec.sum()})')\n",
    "print(f'Energy (corrected) after high cut: {hits_cut_2.E.sum()} ({hits_cut_2.Ec.sum()})')"
   ]
  },
  {
   "cell_type": "markdown",
   "metadata": {},
   "source": [
    "##### Drop isolated sensors\n",
    "\n",
    "Cut sensors that are isolated in XY. Basically drops a sensor if there are no sensors near-by (distance can be configurable) that have seen light in the event."
   ]
  },
  {
   "cell_type": "code",
   "execution_count": 11,
   "metadata": {},
   "outputs": [
    {
     "name": "stdout",
     "output_type": "stream",
     "text": [
      "Time spent in drop_isolated: 0.01960301399230957 s\n"
     ]
    }
   ],
   "source": [
    "hits_drop = coref.timefunc(drop_sensors)(hits_cut.copy())"
   ]
  },
  {
   "cell_type": "code",
   "execution_count": 12,
   "metadata": {},
   "outputs": [
    {
     "data": {
      "image/png": "[encoded data removed]",
      "text/plain": [
       "<Figure size 1296x288 with 3 Axes>"
      ]
     },
     "metadata": {
      "needs_background": "light"
     },
     "output_type": "display_data"
    }
   ],
   "source": [
    "fig, axes = plt.subplots(1, 3, figsize=(18, 4))\n",
    "\n",
    "xx = np.arange(hits.X.min(), hits.X.max() + 10, 10)\n",
    "yy = np.arange(hits.Y.min(), hits.Y.max() + 10, 10)\n",
    "zz = hits.Z.unique()\n",
    "\n",
    "axes[0].hist2d(hits_drop.X, hits_drop.Y, bins=[xx, yy], weights=hits_drop.Q);\n",
    "axes[0].set_xlabel('X (mm)');\n",
    "axes[0].set_ylabel('Y (mm)');\n",
    "\n",
    "axes[1].hist2d(hits_drop.X, hits_drop.Z, bins=[xx, zz], weights=hits_drop.Q);\n",
    "axes[1].set_xlabel('X (mm)');\n",
    "axes[1].set_ylabel('Z (mm)');\n",
    "\n",
    "\n",
    "axes[2].hist2d(hits_drop.Y, hits_drop.Z, bins=[yy, zz], weights=hits_drop.Q);\n",
    "axes[2].set_xlabel('Y (mm)');\n",
    "axes[2].set_ylabel('Z (mm)');"
   ]
  },
  {
   "cell_type": "markdown",
   "metadata": {},
   "source": [
    "It usually does not make a difference, as it's not usual to have rogue SiPMs. Let's add one and check the performance of the function:"
   ]
  },
  {
   "cell_type": "code",
   "execution_count": 13,
   "metadata": {},
   "outputs": [],
   "source": [
    "hits_cut.loc[len(hits_cut)] = hits_cut.loc[0].values\n",
    "hits_cut.loc[len(hits_cut)-1, ['X', 'Y', 'Q']] = [-250, -250, 1000]"
   ]
  },
  {
   "cell_type": "code",
   "execution_count": 14,
   "metadata": {
    "scrolled": true
   },
   "outputs": [
    {
     "data": {
      "text/html": [
       "<div>\n",
       "<style scoped>\n",
       "    .dataframe tbody tr th:only-of-type {\n",
       "        vertical-align: middle;\n",
       "    }\n",
       "\n",
       "    .dataframe tbody tr th {\n",
       "        vertical-align: top;\n",
       "    }\n",
       "\n",
       "    .dataframe thead th {\n",
       "        text-align: right;\n",
       "    }\n",
       "</style>\n",
       "<table border=\"1\" class=\"dataframe\">\n",
       "  <thead>\n",
       "    <tr style=\"text-align: right;\">\n",
       "      <th></th>\n",
       "      <th>event</th>\n",
       "      <th>time</th>\n",
       "      <th>npeak</th>\n",
       "      <th>Xpeak</th>\n",
       "      <th>Ypeak</th>\n",
       "      <th>nsipm</th>\n",
       "      <th>X</th>\n",
       "      <th>Y</th>\n",
       "      <th>Xrms</th>\n",
       "      <th>Yrms</th>\n",
       "      <th>Z</th>\n",
       "      <th>Q</th>\n",
       "      <th>E</th>\n",
       "      <th>Qc</th>\n",
       "      <th>Ec</th>\n",
       "      <th>track_id</th>\n",
       "    </tr>\n",
       "  </thead>\n",
       "  <tbody>\n",
       "    <tr>\n",
       "      <th>276</th>\n",
       "      <td>8.0</td>\n",
       "      <td>0.0</td>\n",
       "      <td>0.0</td>\n",
       "      <td>-87.253126</td>\n",
       "      <td>-3.031466</td>\n",
       "      <td>1.0</td>\n",
       "      <td>-75.0</td>\n",
       "      <td>-5.0</td>\n",
       "      <td>0.0</td>\n",
       "      <td>0.0</td>\n",
       "      <td>443.710500</td>\n",
       "      <td>13.445358</td>\n",
       "      <td>559.597250</td>\n",
       "      <td>-1.0</td>\n",
       "      <td>0.002189</td>\n",
       "      <td>-1.0</td>\n",
       "    </tr>\n",
       "    <tr>\n",
       "      <th>277</th>\n",
       "      <td>8.0</td>\n",
       "      <td>0.0</td>\n",
       "      <td>0.0</td>\n",
       "      <td>-87.253126</td>\n",
       "      <td>-3.031466</td>\n",
       "      <td>1.0</td>\n",
       "      <td>-95.0</td>\n",
       "      <td>-5.0</td>\n",
       "      <td>0.0</td>\n",
       "      <td>0.0</td>\n",
       "      <td>445.570000</td>\n",
       "      <td>22.245390</td>\n",
       "      <td>2398.463123</td>\n",
       "      <td>-1.0</td>\n",
       "      <td>0.009501</td>\n",
       "      <td>-1.0</td>\n",
       "    </tr>\n",
       "    <tr>\n",
       "      <th>278</th>\n",
       "      <td>8.0</td>\n",
       "      <td>0.0</td>\n",
       "      <td>0.0</td>\n",
       "      <td>-87.253126</td>\n",
       "      <td>-3.031466</td>\n",
       "      <td>1.0</td>\n",
       "      <td>-95.0</td>\n",
       "      <td>5.0</td>\n",
       "      <td>0.0</td>\n",
       "      <td>0.0</td>\n",
       "      <td>445.570000</td>\n",
       "      <td>15.131508</td>\n",
       "      <td>1631.455494</td>\n",
       "      <td>-1.0</td>\n",
       "      <td>0.006450</td>\n",
       "      <td>-1.0</td>\n",
       "    </tr>\n",
       "    <tr>\n",
       "      <th>279</th>\n",
       "      <td>8.0</td>\n",
       "      <td>0.0</td>\n",
       "      <td>0.0</td>\n",
       "      <td>-87.253126</td>\n",
       "      <td>-3.031466</td>\n",
       "      <td>1.0</td>\n",
       "      <td>-85.0</td>\n",
       "      <td>-5.0</td>\n",
       "      <td>0.0</td>\n",
       "      <td>0.0</td>\n",
       "      <td>445.570000</td>\n",
       "      <td>12.796318</td>\n",
       "      <td>1379.678983</td>\n",
       "      <td>-1.0</td>\n",
       "      <td>0.005459</td>\n",
       "      <td>-1.0</td>\n",
       "    </tr>\n",
       "    <tr>\n",
       "      <th>280</th>\n",
       "      <td>8.0</td>\n",
       "      <td>0.0</td>\n",
       "      <td>0.0</td>\n",
       "      <td>-87.253126</td>\n",
       "      <td>-3.031466</td>\n",
       "      <td>1.0</td>\n",
       "      <td>-250.0</td>\n",
       "      <td>-250.0</td>\n",
       "      <td>0.0</td>\n",
       "      <td>0.0</td>\n",
       "      <td>406.159781</td>\n",
       "      <td>1000.000000</td>\n",
       "      <td>1245.697049</td>\n",
       "      <td>-1.0</td>\n",
       "      <td>0.004843</td>\n",
       "      <td>-1.0</td>\n",
       "    </tr>\n",
       "  </tbody>\n",
       "</table>\n",
       "</div>"
      ],
      "text/plain": [
       "     event  time  npeak      Xpeak     Ypeak  nsipm      X      Y  Xrms  Yrms  \\\n",
       "276    8.0   0.0    0.0 -87.253126 -3.031466    1.0  -75.0   -5.0   0.0   0.0   \n",
       "277    8.0   0.0    0.0 -87.253126 -3.031466    1.0  -95.0   -5.0   0.0   0.0   \n",
       "278    8.0   0.0    0.0 -87.253126 -3.031466    1.0  -95.0    5.0   0.0   0.0   \n",
       "279    8.0   0.0    0.0 -87.253126 -3.031466    1.0  -85.0   -5.0   0.0   0.0   \n",
       "280    8.0   0.0    0.0 -87.253126 -3.031466    1.0 -250.0 -250.0   0.0   0.0   \n",
       "\n",
       "              Z            Q            E   Qc        Ec  track_id  \n",
       "276  443.710500    13.445358   559.597250 -1.0  0.002189      -1.0  \n",
       "277  445.570000    22.245390  2398.463123 -1.0  0.009501      -1.0  \n",
       "278  445.570000    15.131508  1631.455494 -1.0  0.006450      -1.0  \n",
       "279  445.570000    12.796318  1379.678983 -1.0  0.005459      -1.0  \n",
       "280  406.159781  1000.000000  1245.697049 -1.0  0.004843      -1.0  "
      ]
     },
     "execution_count": 14,
     "metadata": {},
     "output_type": "execute_result"
    }
   ],
   "source": [
    "hits_cut.tail()"
   ]
  },
  {
   "cell_type": "code",
   "execution_count": 15,
   "metadata": {},
   "outputs": [
    {
     "data": {
      "image/png": "[encoded data removed]",
      "text/plain": [
       "<Figure size 1296x288 with 3 Axes>"
      ]
     },
     "metadata": {
      "needs_background": "light"
     },
     "output_type": "display_data"
    }
   ],
   "source": [
    "fig, axes = plt.subplots(1, 3, figsize=(18, 4))\n",
    "\n",
    "xx = np.arange(hits_cut.X.min(), hits_cut.X.max() + 10, 10)\n",
    "yy = np.arange(hits_cut.Y.min(), hits_cut.Y.max() + 10, 10)\n",
    "zz = hits.Z.unique()\n",
    "\n",
    "axes[0].hist2d(hits_cut.X, hits_cut.Y, bins=[xx, yy], weights=hits_cut.Q);\n",
    "axes[0].set_xlabel('X (mm)');\n",
    "axes[0].set_ylabel('Y (mm)');\n",
    "\n",
    "axes[1].hist2d(hits_cut.X, hits_cut.Z, bins=[xx, zz], weights=hits_cut.Q);\n",
    "axes[1].set_xlabel('X (mm)');\n",
    "axes[1].set_ylabel('Z (mm)');\n",
    "\n",
    "\n",
    "axes[2].hist2d(hits_cut.Y, hits_cut.Z, bins=[yy, zz], weights=hits_cut.Q);\n",
    "axes[2].set_xlabel('Y (mm)');\n",
    "axes[2].set_ylabel('Z (mm)');"
   ]
  },
  {
   "cell_type": "markdown",
   "metadata": {},
   "source": [
    "And now after cut:"
   ]
  },
  {
   "cell_type": "code",
   "execution_count": 16,
   "metadata": {},
   "outputs": [
    {
     "name": "stdout",
     "output_type": "stream",
     "text": [
      "Time spent in drop_isolated: 0.026757478713989258 s\n"
     ]
    }
   ],
   "source": [
    "hits_drop = coref.timefunc(drop_sensors)(hits_cut.copy())"
   ]
  },
  {
   "cell_type": "code",
   "execution_count": 17,
   "metadata": {},
   "outputs": [
    {
     "data": {
      "image/png": "[encoded data removed]",
      "text/plain": [
       "<Figure size 1296x288 with 3 Axes>"
      ]
     },
     "metadata": {
      "needs_background": "light"
     },
     "output_type": "display_data"
    }
   ],
   "source": [
    "fig, axes = plt.subplots(1, 3, figsize=(18, 4))\n",
    "\n",
    "xx = np.arange(hits_cut.X.min(), hits_cut.X.max() + 10, 10)\n",
    "yy = np.arange(hits_cut.Y.min(), hits_cut.Y.max() + 10, 10)\n",
    "zz = hits.Z.unique()\n",
    "\n",
    "axes[0].hist2d(hits_drop.X, hits_drop.Y, bins=[xx, yy], weights=hits_drop.Q);\n",
    "axes[0].set_xlabel('X (mm)');\n",
    "axes[0].set_ylabel('Y (mm)');\n",
    "\n",
    "axes[1].hist2d(hits_drop.X, hits_drop.Z, bins=[xx, zz], weights=hits_drop.Q);\n",
    "axes[1].set_xlabel('X (mm)');\n",
    "axes[1].set_ylabel('Z (mm)');\n",
    "\n",
    "\n",
    "axes[2].hist2d(hits_drop.Y, hits_drop.Z, bins=[yy, zz], weights=hits_drop.Q);\n",
    "axes[2].set_xlabel('Y (mm)');\n",
    "axes[2].set_ylabel('Z (mm)');"
   ]
  },
  {
   "cell_type": "markdown",
   "metadata": {},
   "source": [
    "When cutting, the energy is distributed through the reminding hits so the total energy of the event remains the same. The increment is due to the additional hit to `hits_copy` which caused an increase in the input energy. Still the energy before and after the cut remains the same as should be expected."
   ]
  },
  {
   "cell_type": "code",
   "execution_count": 18,
   "metadata": {},
   "outputs": [
    {
     "name": "stdout",
     "output_type": "stream",
     "text": [
      "Energy (corrected) before cut: 371147.09045830765 (1.4511291612639798)\n",
      "Energy (corrected) after  cut: 371147.09045830765 (1.4511291612639796)\n"
     ]
    }
   ],
   "source": [
    "print(f'Energy (corrected) before cut: {hits_cut.E.sum()} ({hits_cut.Ec.sum()})')\n",
    "print(f'Energy (corrected) after  cut: {hits_drop.E.sum()} ({hits_drop.Ec.sum()})')"
   ]
  },
  {
   "cell_type": "markdown",
   "metadata": {},
   "source": [
    "Recover the hits as they should (normal cuts):"
   ]
  },
  {
   "cell_type": "code",
   "execution_count": 19,
   "metadata": {},
   "outputs": [
    {
     "name": "stdout",
     "output_type": "stream",
     "text": [
      "Time spent in cut_over_Q: 0.02704024314880371 s\n",
      "Time spent in drop_isolated: 0.032816171646118164 s\n"
     ]
    }
   ],
   "source": [
    "hits_cut  = coref.timefunc(cut_sensors )(hits    .copy())\n",
    "hits_drop = coref.timefunc(drop_sensors)(hits_cut.copy())"
   ]
  },
  {
   "cell_type": "markdown",
   "metadata": {},
   "source": [
    "##### Deconvolve signal\n",
    "Last function in the city is `deconvolve_signal` which basically chooses the deconvolution mode (either 2D or 3D, and joint or separate, see code description) and calls deconvolve function (once per S2 peak). Which first interpolates the signal and then deconvolves it. After all the process, `deconvolve_signal` assigns the energy, measured by the PMTs (corrected or not, chosen by parameter) to each deconvolved hit based on their fraction of energy of the full S2 peak. \n",
    "\n",
    "Hereunder, `deconvolve_signal` output will be showed. Individual performance of each step will be looked into later in the notebook."
   ]
  },
  {
   "cell_type": "code",
   "execution_count": 20,
   "metadata": {},
   "outputs": [
    {
     "name": "stdout",
     "output_type": "stream",
     "text": [
      "15 iterations\n",
      "Time spent in apply_deconvolution: 0.9039700031280518 s\n",
      "30 iterations\n",
      "Time spent in apply_deconvolution: 1.688899278640747 s\n",
      "45 iterations\n",
      "Time spent in apply_deconvolution: 2.1842472553253174 s\n",
      "60 iterations\n",
      "Time spent in apply_deconvolution: 3.178677797317505 s\n",
      "75 iterations\n",
      "Time spent in apply_deconvolution: 3.438901901245117 s\n",
      "90 iterations\n",
      "Time spent in apply_deconvolution: 4.936505079269409 s\n"
     ]
    }
   ],
   "source": [
    "for iterN in np.arange(15, 91, 15):\n",
    "    deconv_params_['n_iterations'] = iterN\n",
    "    deconvolver = beerfun.deconvolve_signal(**deconv_params_)\n",
    "    print(f'{iterN} iterations')\n",
    "    hits_deco = coref.timefunc(deconvolver)(hits_drop.copy())"
   ]
  },
  {
   "cell_type": "code",
   "execution_count": 21,
   "metadata": {},
   "outputs": [
    {
     "data": {
      "image/png": "[encoded data removed]",
      "text/plain": [
       "<Figure size 1296x288 with 3 Axes>"
      ]
     },
     "metadata": {
      "needs_background": "light"
     },
     "output_type": "display_data"
    }
   ],
   "source": [
    "fig, axes = plt.subplots(1, 3, figsize=(18, 4))\n",
    "\n",
    "xx = np.arange(hits.X.min(), hits.X.max() + 1, 1)\n",
    "yy = np.arange(hits.Y.min(), hits.Y.max() + 1, 1)\n",
    "zz = hits.Z.unique()\n",
    "\n",
    "axes[0].hist2d(hits_deco.X, hits_deco.Y, bins=[xx, yy], weights=hits_deco.E);\n",
    "axes[0].set_xlabel('X (mm)');\n",
    "axes[0].set_ylabel('Y (mm)');\n",
    "\n",
    "axes[1].hist2d(hits_deco.X, hits_deco.Z, bins=[xx, zz], weights=hits_deco.E);\n",
    "axes[1].set_xlabel('X (mm)');\n",
    "axes[1].set_ylabel('Z (mm)');\n",
    "\n",
    "axes[2].hist2d(hits_deco.Y, hits_deco.Z, bins=[yy, zz], weights=hits_deco.E);\n",
    "axes[2].set_xlabel('Y (mm)');\n",
    "axes[2].set_ylabel('Z (mm)');"
   ]
  },
  {
   "cell_type": "code",
   "execution_count": 22,
   "metadata": {},
   "outputs": [
    {
     "name": "stdout",
     "output_type": "stream",
     "text": [
      "Corrected energy before deconvolution: 1.446286533056059\n",
      "Corrected energy after  deconvolution: 1.446286533056059\n"
     ]
    }
   ],
   "source": [
    "print(f'Corrected energy before deconvolution: {hits_drop.Ec.sum()}')\n",
    "print(f'Corrected energy after  deconvolution: {hits_deco.E .sum()}')"
   ]
  },
  {
   "cell_type": "markdown",
   "metadata": {},
   "source": [
    "###### Joint vs separate mode"
   ]
  },
  {
   "cell_type": "markdown",
   "metadata": {},
   "source": [
    "In joint mode, the PSF is based from the PSF files based on the Z of the slice/event and it has both diffusion and EL effects. In separate mode, two deconvolutions are done, one using the EL PSF and another using a model Gaussian starting on the result of the first (EL) deconvolution."
   ]
  },
  {
   "cell_type": "code",
   "execution_count": 23,
   "metadata": {},
   "outputs": [
    {
     "name": "stdout",
     "output_type": "stream",
     "text": [
      "Joint deconvolution\n",
      "Time spent in apply_deconvolution: 4.348266124725342 s\n",
      "Separate EL+gauss deconvolution\n",
      "Time spent in apply_deconvolution: 7.51841926574707 s\n"
     ]
    }
   ],
   "source": [
    "deconv_params_['deconv_mode' ] = 'joint'\n",
    "deconv_params_['n_iterations'] = 90\n",
    "\n",
    "deconvolver  = beerfun.deconvolve_signal(**deconv_params_)\n",
    "print('Joint deconvolution')\n",
    "hits_deco = coref.timefunc(deconvolver)(hits_drop.copy())\n",
    "\n",
    "deconv_params_['deconv_mode'] = 'separate'\n",
    "deconv_params_['n_iterations_g'] = 90\n",
    "deconvolver   = beerfun.deconvolve_signal(**deconv_params_)\n",
    "print('Separate EL+gauss deconvolution')\n",
    "hits_deco_sep = coref.timefunc(deconvolver)(hits_drop.copy())"
   ]
  },
  {
   "cell_type": "code",
   "execution_count": 24,
   "metadata": {},
   "outputs": [
    {
     "data": {
      "text/plain": [
       "Text(0.5, 0.98, 'Separate mode')"
      ]
     },
     "execution_count": 24,
     "metadata": {},
     "output_type": "execute_result"
    },
    {
     "data": {
      "image/png": "[encoded data removed]",
      "text/plain": [
       "<Figure size 1296x288 with 3 Axes>"
      ]
     },
     "metadata": {
      "needs_background": "light"
     },
     "output_type": "display_data"
    },
    {
     "data": {
      "image/png": "[encoded data removed]",
      "text/plain": [
       "<Figure size 1296x288 with 3 Axes>"
      ]
     },
     "metadata": {
      "needs_background": "light"
     },
     "output_type": "display_data"
    }
   ],
   "source": [
    "fig, axes = plt.subplots(1, 3, figsize=(18, 4))\n",
    "\n",
    "xx = np.arange(hits.X.min(), hits.X.max() + 1, 1)\n",
    "yy = np.arange(hits.Y.min(), hits.Y.max() + 1, 1)\n",
    "zz = hits.Z.unique()\n",
    "\n",
    "axes[0].hist2d(hits_deco.X, hits_deco.Y, bins=[xx, yy], weights=hits_deco.E);\n",
    "axes[0].set_xlabel('X (mm)');\n",
    "axes[0].set_ylabel('Y (mm)');\n",
    "\n",
    "axes[1].hist2d(hits_deco.X, hits_deco.Z, bins=[xx, zz], weights=hits_deco.E);\n",
    "axes[1].set_xlabel('X (mm)');\n",
    "axes[1].set_ylabel('Z (mm)');\n",
    "\n",
    "axes[2].hist2d(hits_deco.Y, hits_deco.Z, bins=[yy, zz], weights=hits_deco.E);\n",
    "axes[2].set_xlabel('Y (mm)');\n",
    "axes[2].set_ylabel('Z (mm)');\n",
    "\n",
    "fig.suptitle('Joint mode')\n",
    "\n",
    "fig, axes = plt.subplots(1, 3, figsize=(18, 4))\n",
    "\n",
    "xx = np.arange(hits.X.min(), hits.X.max() + 1, 1)\n",
    "yy = np.arange(hits.Y.min(), hits.Y.max() + 1, 1)\n",
    "zz = hits.Z.unique()\n",
    "\n",
    "axes[0].hist2d(hits_deco_sep.X, hits_deco_sep.Y, bins=[xx, yy], weights=hits_deco_sep.E);\n",
    "axes[0].set_xlabel('X (mm)');\n",
    "axes[0].set_ylabel('Y (mm)');\n",
    "\n",
    "axes[1].hist2d(hits_deco_sep.X, hits_deco_sep.Z, bins=[xx, zz], weights=hits_deco_sep.E);\n",
    "axes[1].set_xlabel('X (mm)');\n",
    "axes[1].set_ylabel('Z (mm)');\n",
    "\n",
    "axes[2].hist2d(hits_deco_sep.Y, hits_deco_sep.Z, bins=[yy, zz], weights=hits_deco_sep.E);\n",
    "axes[2].set_xlabel('Y (mm)');\n",
    "axes[2].set_ylabel('Z (mm)');\n",
    "\n",
    "fig.suptitle('Separate mode')"
   ]
  },
  {
   "cell_type": "markdown",
   "metadata": {},
   "source": [
    "## Inside `deconvolve_signal`"
   ]
  },
  {
   "cell_type": "markdown",
   "metadata": {},
   "source": [
    "A bit more detailed look at each of the steps in the `deconvolve_signal` function: interpolation, deconvolution and energy assignment."
   ]
  },
  {
   "cell_type": "markdown",
   "metadata": {},
   "source": [
    "##### `deconvolve`\n",
    "\n",
    "After choosing deconvolution modes, `deconvolve` function is called and handles the interpolation (`deconvolution_input` function) and the lucy-richardson deconvolution (`richardson_lucy`) given the position and Q of the events as well as the PSF that shall be used."
   ]
  },
  {
   "cell_type": "code",
   "execution_count": 25,
   "metadata": {},
   "outputs": [],
   "source": [
    "from invisible_cities. reco.deconv_functions import deconvolve\n",
    "from invisible_cities. reco.deconv_functions import InterpolationMethod"
   ]
  },
  {
   "cell_type": "code",
   "execution_count": 26,
   "metadata": {},
   "outputs": [],
   "source": [
    "deconvolver = deconvolve(90, 1e-10, [10., 10.], [1., 1.], InterpolationMethod.cubic)\n",
    "psfs = dstio.load_dst(deconv_params['psf_fname'], 'PSF', 'PSFs')\n",
    "psf  = psfs[psfs.z==412.5]"
   ]
  },
  {
   "cell_type": "code",
   "execution_count": 27,
   "metadata": {},
   "outputs": [
    {
     "name": "stdout",
     "output_type": "stream",
     "text": [
      "Time spent in deconvolve: 0.15325069427490234 s\n",
      "Time spent in deconvolve: 0.18434667587280273 s\n",
      "Time spent in deconvolve: 0.17828917503356934 s\n",
      "Time spent in deconvolve: 0.1960599422454834 s\n",
      "Time spent in deconvolve: 0.2080068588256836 s\n",
      "Time spent in deconvolve: 0.18389105796813965 s\n",
      "Time spent in deconvolve: 0.1844489574432373 s\n",
      "Time spent in deconvolve: 0.1665189266204834 s\n",
      "Time spent in deconvolve: 0.14133977890014648 s\n",
      "Time spent in deconvolve: 0.14856672286987305 s\n",
      "Time spent in deconvolve: 0.15241456031799316 s\n",
      "Time spent in deconvolve: 0.14946889877319336 s\n",
      "Time spent in deconvolve: 0.15143370628356934 s\n",
      "Time spent in deconvolve: 0.14369750022888184 s\n",
      "Time spent in deconvolve: 0.14631390571594238 s\n",
      "Time spent in deconvolve: 0.14192724227905273 s\n",
      "Time spent in deconvolve: 0.16918134689331055 s\n",
      "Time spent in deconvolve: 0.1845541000366211 s\n",
      "Time spent in deconvolve: 0.17184233665466309 s\n",
      "Time spent in deconvolve: 0.1551048755645752 s\n",
      "Time spent in deconvolve: 0.13146066665649414 s\n"
     ]
    }
   ],
   "source": [
    "e = []\n",
    "px, py, pz = [], [], []\n",
    "for z in hits_drop.Z.unique():\n",
    "    h = hits_drop[hits_drop.Z == z]\n",
    "    value, pos = coref.timefunc(deconvolver)((h.X.values, h.Y.values), h.Q.values, psf)\n",
    "    e.extend(value.flatten())\n",
    "    px.extend(pos[0].flatten())\n",
    "    py.extend(pos[1].flatten())\n",
    "    pz.extend([z] * len(value.flatten()))\n",
    "\n",
    "e = np.array(e).flatten()    \n",
    "px = np.array(px).flatten()    \n",
    "py = np.array(py).flatten()    \n",
    "pz = np.array(pz).flatten() "
   ]
  },
  {
   "cell_type": "code",
   "execution_count": 28,
   "metadata": {},
   "outputs": [
    {
     "data": {
      "image/png": "[encoded data removed]",
      "text/plain": [
       "<Figure size 1296x288 with 3 Axes>"
      ]
     },
     "metadata": {
      "needs_background": "light"
     },
     "output_type": "display_data"
    }
   ],
   "source": [
    "fig, axes = plt.subplots(1, 3, figsize=(18, 4))\n",
    "\n",
    "axes[0].hist2d(px, py, bins=[xx, yy], weights=e);\n",
    "axes[0].set_xlabel('X (mm)');\n",
    "axes[0].set_ylabel('Y (mm)');\n",
    "\n",
    "axes[1].hist2d(px, pz, bins=[xx, zz], weights=e);\n",
    "axes[1].set_xlabel('X (mm)');\n",
    "axes[1].set_ylabel('Z (mm)');\n",
    "\n",
    "axes[2].hist2d(py, pz, bins=[yy, zz], weights=e);\n",
    "axes[2].set_xlabel('Y (mm)');\n",
    "axes[2].set_ylabel('Z (mm)');"
   ]
  },
  {
   "cell_type": "markdown",
   "metadata": {},
   "source": [
    "##### `create_deconvolution_df`\n",
    "\n",
    "`create_deconvolution_df` applies a cut (absolute or relative) to the deconvolution output and creates a dataframe object from the deconvolution output. In the 2D mode, this is done slice by slice and then joined together."
   ]
  },
  {
   "cell_type": "code",
   "execution_count": 29,
   "metadata": {},
   "outputs": [
    {
     "name": "stdout",
     "output_type": "stream",
     "text": [
      "Time spent in create_deconvolution_df: 0.008282899856567383 s\n",
      "Time spent in create_deconvolution_df: 0.013116121292114258 s\n",
      "Time spent in create_deconvolution_df: 0.012879133224487305 s\n",
      "Time spent in create_deconvolution_df: 0.020967960357666016 s\n",
      "Time spent in create_deconvolution_df: 0.015420198440551758 s\n",
      "Time spent in create_deconvolution_df: 0.022855281829833984 s\n",
      "Time spent in create_deconvolution_df: 0.018172264099121094 s\n",
      "Time spent in create_deconvolution_df: 0.00957489013671875 s\n",
      "Time spent in create_deconvolution_df: 0.006218910217285156 s\n",
      "Time spent in create_deconvolution_df: 0.007247447967529297 s\n",
      "Time spent in create_deconvolution_df: 0.008186578750610352 s\n",
      "Time spent in create_deconvolution_df: 0.00727391242980957 s\n",
      "Time spent in create_deconvolution_df: 0.006894350051879883 s\n",
      "Time spent in create_deconvolution_df: 0.005807638168334961 s\n",
      "Time spent in create_deconvolution_df: 0.0065572261810302734 s\n",
      "Time spent in create_deconvolution_df: 0.006764888763427734 s\n",
      "Time spent in create_deconvolution_df: 0.009570837020874023 s\n",
      "Time spent in create_deconvolution_df: 0.0167236328125 s\n",
      "Time spent in create_deconvolution_df: 0.0161895751953125 s\n",
      "Time spent in create_deconvolution_df: 0.008758783340454102 s\n",
      "Time spent in create_deconvolution_df: 0.005303382873535156 s\n"
     ]
    }
   ],
   "source": [
    "deco = []\n",
    "for z in hits_drop.Z.unique():\n",
    "    h = hits_drop[hits_drop.Z == z]\n",
    "    value, pos = deconvolver((h.X.values, h.Y.values), h.Q.values, psf)\n",
    "    df = coref.timefunc(beerfun.create_deconvolution_df)(h, value.flatten(), pos, \n",
    "                                                         beerfun.CutType(deconv_params_['cut_type']), \n",
    "                                                         deconv_params_['e_cut'], 2)\n",
    "    deco.append(df)\n",
    "deco = pd.concat(deco)"
   ]
  },
  {
   "cell_type": "code",
   "execution_count": 30,
   "metadata": {},
   "outputs": [
    {
     "data": {
      "text/plain": [
       "Text(0.5, 0.98, 'Separate mode')"
      ]
     },
     "execution_count": 30,
     "metadata": {},
     "output_type": "execute_result"
    },
    {
     "data": {
      "image/png": "[encoded data removed]",
      "text/plain": [
       "<Figure size 1296x288 with 3 Axes>"
      ]
     },
     "metadata": {
      "needs_background": "light"
     },
     "output_type": "display_data"
    }
   ],
   "source": [
    "fig, axes = plt.subplots(1, 3, figsize=(18, 4))\n",
    "\n",
    "xx = np.arange(hits.X.min(), hits.X.max() + 1, 1)\n",
    "yy = np.arange(hits.Y.min(), hits.Y.max() + 1, 1)\n",
    "zz = hits.Z.unique()\n",
    "\n",
    "axes[0].hist2d(deco.X, deco.Y, bins=[xx, yy], weights=deco.E);\n",
    "axes[0].set_xlabel('X (mm)');\n",
    "axes[0].set_ylabel('Y (mm)');\n",
    "\n",
    "axes[1].hist2d(deco.X, deco.Z, bins=[xx, zz], weights=deco.E);\n",
    "axes[1].set_xlabel('X (mm)');\n",
    "axes[1].set_ylabel('Z (mm)');\n",
    "\n",
    "axes[2].hist2d(deco.Y, deco.Z, bins=[yy, zz], weights=deco.E);\n",
    "axes[2].set_xlabel('Y (mm)');\n",
    "axes[2].set_ylabel('Z (mm)');\n",
    "\n",
    "fig.suptitle('Separate mode')"
   ]
  },
  {
   "cell_type": "code",
   "execution_count": 31,
   "metadata": {},
   "outputs": [
    {
     "name": "stdout",
     "output_type": "stream",
     "text": [
      "min hit e before cut = 4.0580841047176597e-212\n",
      "min hit e after  cut = 0.008006474714057434\n"
     ]
    }
   ],
   "source": [
    "print(f'min hit e before cut = {e.min()}')\n",
    "print(f'min hit e after  cut = {deco.E.min()}')"
   ]
  },
  {
   "cell_type": "code",
   "execution_count": 32,
   "metadata": {},
   "outputs": [
    {
     "data": {
      "text/html": [
       "<div>\n",
       "<style scoped>\n",
       "    .dataframe tbody tr th:only-of-type {\n",
       "        vertical-align: middle;\n",
       "    }\n",
       "\n",
       "    .dataframe tbody tr th {\n",
       "        vertical-align: top;\n",
       "    }\n",
       "\n",
       "    .dataframe thead th {\n",
       "        text-align: right;\n",
       "    }\n",
       "</style>\n",
       "<table border=\"1\" class=\"dataframe\">\n",
       "  <thead>\n",
       "    <tr style=\"text-align: right;\">\n",
       "      <th></th>\n",
       "      <th>event</th>\n",
       "      <th>npeak</th>\n",
       "      <th>X</th>\n",
       "      <th>Y</th>\n",
       "      <th>Z</th>\n",
       "      <th>E</th>\n",
       "    </tr>\n",
       "  </thead>\n",
       "  <tbody>\n",
       "    <tr>\n",
       "      <th>0</th>\n",
       "      <td>8</td>\n",
       "      <td>0</td>\n",
       "      <td>-95.5</td>\n",
       "      <td>6.5</td>\n",
       "      <td>406.159781</td>\n",
       "      <td>0.011910</td>\n",
       "    </tr>\n",
       "    <tr>\n",
       "      <th>1</th>\n",
       "      <td>8</td>\n",
       "      <td>0</td>\n",
       "      <td>-95.5</td>\n",
       "      <td>7.5</td>\n",
       "      <td>406.159781</td>\n",
       "      <td>0.017496</td>\n",
       "    </tr>\n",
       "    <tr>\n",
       "      <th>2</th>\n",
       "      <td>8</td>\n",
       "      <td>0</td>\n",
       "      <td>-95.5</td>\n",
       "      <td>8.5</td>\n",
       "      <td>406.159781</td>\n",
       "      <td>0.019151</td>\n",
       "    </tr>\n",
       "    <tr>\n",
       "      <th>3</th>\n",
       "      <td>8</td>\n",
       "      <td>0</td>\n",
       "      <td>-95.5</td>\n",
       "      <td>9.5</td>\n",
       "      <td>406.159781</td>\n",
       "      <td>0.015460</td>\n",
       "    </tr>\n",
       "    <tr>\n",
       "      <th>4</th>\n",
       "      <td>8</td>\n",
       "      <td>0</td>\n",
       "      <td>-95.5</td>\n",
       "      <td>10.5</td>\n",
       "      <td>406.159781</td>\n",
       "      <td>0.009105</td>\n",
       "    </tr>\n",
       "  </tbody>\n",
       "</table>\n",
       "</div>"
      ],
      "text/plain": [
       "   event  npeak     X     Y           Z         E\n",
       "0      8      0 -95.5   6.5  406.159781  0.011910\n",
       "1      8      0 -95.5   7.5  406.159781  0.017496\n",
       "2      8      0 -95.5   8.5  406.159781  0.019151\n",
       "3      8      0 -95.5   9.5  406.159781  0.015460\n",
       "4      8      0 -95.5  10.5  406.159781  0.009105"
      ]
     },
     "execution_count": 32,
     "metadata": {},
     "output_type": "execute_result"
    }
   ],
   "source": [
    "deco.head()"
   ]
  },
  {
   "cell_type": "markdown",
   "metadata": {},
   "source": [
    "##### `distribute_energy`\n",
    "\n",
    "`distribute_energy` assigns the total S2 energy measured by PMTs to the deconvolved dataframe."
   ]
  },
  {
   "cell_type": "code",
   "execution_count": 33,
   "metadata": {},
   "outputs": [],
   "source": [
    "from invisible_cities. evm.event_model       import HitEnergy"
   ]
  },
  {
   "cell_type": "code",
   "execution_count": 34,
   "metadata": {},
   "outputs": [
    {
     "name": "stdout",
     "output_type": "stream",
     "text": [
      "Energy before assignment = 1333348.829163752\n",
      "Time spent in distribute_energy: 0.002636432647705078 s\n",
      "Energy after assignment = 1.446286533056059\n",
      "Energy according to hits= 1.446286533056059\n"
     ]
    }
   ],
   "source": [
    "print(f'Energy before assignment = {deco.E.sum()}')\n",
    "coref.timefunc(beerfun.distribute_energy)(deco, hits_drop, HitEnergy.Ec)\n",
    "print(f'Energy after assignment = {deco.E.sum()}')\n",
    "print(f'Energy according to hits= {hits_drop.Ec.sum()}')"
   ]
  },
  {
   "cell_type": "markdown",
   "metadata": {},
   "source": [
    "### Inside `deconvolve`"
   ]
  },
  {
   "cell_type": "markdown",
   "metadata": {},
   "source": [
    "##### `deconvolution_input`\n",
    "\n",
    "`deconvolution_input` prepares the input before deconvolution. First it adds 0s around the event (at the distance at which SiPM should be) to not have edge misbehaviours in the interpolation process. If interpolation is desired then `interpolate_signal` is called. The latest function interpolates the input using `interpolate.griddata` from scipy."
   ]
  },
  {
   "cell_type": "code",
   "execution_count": 35,
   "metadata": {},
   "outputs": [],
   "source": [
    "from invisible_cities. reco.deconv_functions import deconvolution_input"
   ]
  },
  {
   "cell_type": "code",
   "execution_count": 36,
   "metadata": {},
   "outputs": [],
   "source": [
    "n_dim=2\n",
    "\n",
    "interpolator = deconvolution_input(deconv_params_['sample_width'][:n_dim], deconv_params_['bin_size'][:n_dim], InterpolationMethod.cubic)"
   ]
  },
  {
   "cell_type": "code",
   "execution_count": 37,
   "metadata": {},
   "outputs": [
    {
     "name": "stdout",
     "output_type": "stream",
     "text": [
      "Time spent in deconvolution_input: 0.0029418468475341797 s\n",
      "Time spent in deconvolution_input: 0.0026504993438720703 s\n",
      "Time spent in deconvolution_input: 0.002938985824584961 s\n",
      "Time spent in deconvolution_input: 0.004019498825073242 s\n",
      "Time spent in deconvolution_input: 0.0047533512115478516 s\n",
      "Time spent in deconvolution_input: 0.0038177967071533203 s\n",
      "Time spent in deconvolution_input: 0.0032732486724853516 s\n",
      "Time spent in deconvolution_input: 0.0033893585205078125 s\n",
      "Time spent in deconvolution_input: 0.0019366741180419922 s\n",
      "Time spent in deconvolution_input: 0.0020592212677001953 s\n",
      "Time spent in deconvolution_input: 0.002176046371459961 s\n",
      "Time spent in deconvolution_input: 0.002218484878540039 s\n",
      "Time spent in deconvolution_input: 0.002356290817260742 s\n",
      "Time spent in deconvolution_input: 0.0019524097442626953 s\n",
      "Time spent in deconvolution_input: 0.002125978469848633 s\n",
      "Time spent in deconvolution_input: 0.0022928714752197266 s\n",
      "Time spent in deconvolution_input: 0.002780914306640625 s\n",
      "Time spent in deconvolution_input: 0.003522634506225586 s\n",
      "Time spent in deconvolution_input: 0.0034935474395751953 s\n",
      "Time spent in deconvolution_input: 0.0027909278869628906 s\n",
      "Time spent in deconvolution_input: 0.0017712116241455078 s\n"
     ]
    }
   ],
   "source": [
    "e = []\n",
    "px, py, pz = [], [], []\n",
    "for z in hits_drop.Z.unique():\n",
    "    h = hits_drop[hits_drop.Z == z]\n",
    "    value, pos = coref.timefunc(interpolator)((h.X.values, h.Y.values), h.Q.values)\n",
    "    e.extend(value.flatten())\n",
    "    px.extend(pos[0].flatten())\n",
    "    py.extend(pos[1].flatten())\n",
    "    pz.extend([z] * len(value.flatten()))\n",
    "\n",
    "e = np.array(e).flatten()    \n",
    "px = np.array(px).flatten()    \n",
    "py = np.array(py).flatten()    \n",
    "pz = np.array(pz).flatten()    \n"
   ]
  },
  {
   "cell_type": "code",
   "execution_count": 38,
   "metadata": {},
   "outputs": [
    {
     "data": {
      "image/png": "[encoded data removed]",
      "text/plain": [
       "<Figure size 1296x288 with 3 Axes>"
      ]
     },
     "metadata": {
      "needs_background": "light"
     },
     "output_type": "display_data"
    }
   ],
   "source": [
    "fig, axes = plt.subplots(1, 3, figsize=(18, 4))\n",
    "\n",
    "axes[0].hist2d(px, py, bins=[xx, yy], weights=e);\n",
    "axes[0].set_xlabel('X (mm)');\n",
    "axes[0].set_ylabel('Y (mm)');\n",
    "\n",
    "axes[1].hist2d(px, pz, bins=[xx, zz], weights=e);\n",
    "axes[1].set_xlabel('X (mm)');\n",
    "axes[1].set_ylabel('Z (mm)');\n",
    "\n",
    "axes[2].hist2d(py, pz, bins=[yy, zz], weights=e);\n",
    "axes[2].set_xlabel('Y (mm)');\n",
    "axes[2].set_ylabel('Z (mm)');"
   ]
  },
  {
   "cell_type": "markdown",
   "metadata": {},
   "source": [
    "##### `richardson_lucy`\n",
    "\n",
    "`richardson_lucy` applies Lucy-Richardson deconvolution. The function is a modified version (to avoid divergence when 0s appear and to add compability for 3D PSFs) of the richardson_lucy function in skimage."
   ]
  },
  {
   "cell_type": "code",
   "execution_count": 39,
   "metadata": {},
   "outputs": [],
   "source": [
    "from invisible_cities. reco.deconv_functions import richardson_lucy"
   ]
  },
  {
   "cell_type": "code",
   "execution_count": 40,
   "metadata": {},
   "outputs": [
    {
     "name": "stdout",
     "output_type": "stream",
     "text": [
      "Time spent in richardson_lucy: 0.1442568302154541 s\n",
      "Time spent in richardson_lucy: 0.17611289024353027 s\n",
      "Time spent in richardson_lucy: 0.17767071723937988 s\n",
      "Time spent in richardson_lucy: 0.17766141891479492 s\n",
      "Time spent in richardson_lucy: 0.19912290573120117 s\n",
      "Time spent in richardson_lucy: 0.18128418922424316 s\n",
      "Time spent in richardson_lucy: 0.19313406944274902 s\n",
      "Time spent in richardson_lucy: 0.16232085227966309 s\n",
      "Time spent in richardson_lucy: 0.14285659790039062 s\n",
      "Time spent in richardson_lucy: 0.14353299140930176 s\n",
      "Time spent in richardson_lucy: 0.15779876708984375 s\n",
      "Time spent in richardson_lucy: 0.15044569969177246 s\n",
      "Time spent in richardson_lucy: 0.1488332748413086 s\n",
      "Time spent in richardson_lucy: 0.14297246932983398 s\n",
      "Time spent in richardson_lucy: 0.14405250549316406 s\n",
      "Time spent in richardson_lucy: 0.14037513732910156 s\n",
      "Time spent in richardson_lucy: 0.17055439949035645 s\n",
      "Time spent in richardson_lucy: 0.17955994606018066 s\n",
      "Time spent in richardson_lucy: 0.17925739288330078 s\n",
      "Time spent in richardson_lucy: 0.18609118461608887 s\n",
      "Time spent in richardson_lucy: 0.13669085502624512 s\n"
     ]
    }
   ],
   "source": [
    "e = []\n",
    "px, py, pz = [], [], []\n",
    "psf2 = psf.factor.values.reshape(psf.loc[:, ['xr', 'yr']].nunique().values)\n",
    "for z in hits_drop.Z.unique():\n",
    "    h = hits_drop[hits_drop.Z == z]\n",
    "    value, pos = interpolator((h.X.values, h.Y.values), h.Q.values)\n",
    "    value = coref.timefunc(richardson_lucy)(value, psf2, 90, 1e-10)\n",
    "    e.extend(value.flatten())\n",
    "    px.extend(pos[0].flatten())\n",
    "    py.extend(pos[1].flatten())\n",
    "    pz.extend([z] * len(value.flatten()))\n",
    "\n",
    "e = np.array(e).flatten()    \n",
    "px = np.array(px).flatten()    \n",
    "py = np.array(py).flatten()    \n",
    "pz = np.array(pz).flatten()"
   ]
  },
  {
   "cell_type": "code",
   "execution_count": 41,
   "metadata": {},
   "outputs": [
    {
     "data": {
      "image/png": "[encoded data removed]",
      "text/plain": [
       "<Figure size 1296x288 with 3 Axes>"
      ]
     },
     "metadata": {
      "needs_background": "light"
     },
     "output_type": "display_data"
    }
   ],
   "source": [
    "fig, axes = plt.subplots(1, 3, figsize=(18, 4))\n",
    "\n",
    "axes[0].hist2d(px, py, bins=[xx, yy], weights=e);\n",
    "axes[0].set_xlabel('X (mm)');\n",
    "axes[0].set_ylabel('Y (mm)');\n",
    "\n",
    "axes[1].hist2d(px, pz, bins=[xx, zz], weights=e);\n",
    "axes[1].set_xlabel('X (mm)');\n",
    "axes[1].set_ylabel('Z (mm)');\n",
    "\n",
    "axes[2].hist2d(py, pz, bins=[yy, zz], weights=e);\n",
    "axes[2].set_xlabel('Y (mm)');\n",
    "axes[2].set_ylabel('Z (mm)');"
   ]
  },
  {
   "cell_type": "markdown",
   "metadata": {},
   "source": [
    "## Profiles\n",
    "\n",
    "Profile running over 100 events in simulated data."
   ]
  },
  {
   "cell_type": "markdown",
   "metadata": {},
   "source": [
    "#### CPU profile (cProfile)"
   ]
  },
  {
   "cell_type": "markdown",
   "metadata": {},
   "source": [
    "![title](cpu_prof.png)"
   ]
  },
  {
   "cell_type": "markdown",
   "metadata": {},
   "source": [
    "#### Memory profile (mprof)"
   ]
  },
  {
   "cell_type": "markdown",
   "metadata": {},
   "source": [
    "![title](memprof.png)\n"
   ]
  }
 ],
 "metadata": {
  "kernelspec": {
   "display_name": "Python 3",
   "language": "python",
   "name": "python3"
  },
  "language_info": {
   "codemirror_mode": {
    "name": "ipython",
    "version": 3
   },
   "file_extension": ".py",
   "mimetype": "text/x-python",
   "name": "python",
   "nbconvert_exporter": "python",
   "pygments_lexer": "ipython3",
   "version": "3.7.2"
  }
 },
 "nbformat": 4,
 "nbformat_minor": 2
}
